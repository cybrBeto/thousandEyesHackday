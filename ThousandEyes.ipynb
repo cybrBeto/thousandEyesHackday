{
  "nbformat": 4,
  "nbformat_minor": 0,
  "metadata": {
    "colab": {
      "provenance": [],
      "gpuType": "T4",
      "include_colab_link": true
    },
    "kernelspec": {
      "name": "python3",
      "display_name": "Python 3"
    },
    "language_info": {
      "name": "python"
    }
  },
  "cells": [
    {
      "cell_type": "markdown",
      "metadata": {
        "id": "view-in-github",
        "colab_type": "text"
      },
      "source": [
        "<a href=\"https://colab.research.google.com/github/cybrBeto/thousandEyesHackday/blob/main/ThousandEyes.ipynb\" target=\"_parent\"><img src=\"https://colab.research.google.com/assets/colab-badge.svg\" alt=\"Open In Colab\"/></a>"
      ]
    },
    {
      "cell_type": "code",
      "execution_count": null,
      "metadata": {
        "colab": {
          "base_uri": "https://localhost:8080/"
        },
        "id": "PiS0OxLmpGGk",
        "outputId": "be3fdff5-b9aa-400d-dbc6-65a6d3389d90"
      },
      "outputs": [
        {
          "output_type": "stream",
          "name": "stdout",
          "text": [
            "Drive already mounted at /content/drive; to attempt to forcibly remount, call drive.mount(\"/content/drive\", force_remount=True).\n"
          ]
        }
      ],
      "source": [
        "from google.colab import drive\n",
        "drive.mount('/content/drive')"
      ]
    },
    {
      "cell_type": "markdown",
      "source": [
        "# Import Libraries"
      ],
      "metadata": {
        "id": "wWymX6B1wDvU"
      }
    },
    {
      "cell_type": "code",
      "source": [
        "import pandas as pd\n",
        "import numpy as np\n",
        "import matplotlib.pyplot as plt\n",
        "import seaborn as sn\n",
        "from sklearn.cluster import KMeans\n",
        "import matplotlib.pyplot as plt\n",
        "import seaborn as sn\n",
        "from sklearn import metrics\n",
        "from sklearn.model_selection import train_test_split\n",
        "from sklearn.preprocessing import StandardScaler\n",
        "from sklearn.tree import DecisionTreeClassifier\n",
        "from sklearn.metrics import accuracy_score\n",
        "from sklearn.metrics import mean_squared_error, r2_score\n",
        "from sklearn.metrics import confusion_matrix, ConfusionMatrixDisplay\n",
        "from sklearn.metrics import recall_score\n",
        "from sklearn.metrics import precision_score\n",
        "from keras.callbacks import ReduceLROnPlateau, EarlyStopping, ModelCheckpoint\n",
        "import tensorflow as tf\n",
        "from tensorflow import keras\n",
        "from tensorflow.keras import layers\n",
        "from keras import models\n",
        "from keras.optimizers import SGD\n",
        "from keras.layers import Conv1D, MaxPooling1D, Flatten, Dense, Dropout, BatchNormalization, LeakyReLU, Activation\n",
        "from keras.optimizers import Adam\n",
        "from sklearn.preprocessing import LabelEncoder\n",
        "from tensorflow.keras import layers\n",
        "from sklearn.preprocessing import MinMaxScaler\n",
        "from sklearn.cluster import DBSCAN"
      ],
      "metadata": {
        "id": "zgPtuVHCploj"
      },
      "execution_count": null,
      "outputs": []
    },
    {
      "cell_type": "markdown",
      "source": [
        "# Dataset Loading and EDA"
      ],
      "metadata": {
        "id": "YB_uJQ8GwI95"
      }
    },
    {
      "cell_type": "code",
      "source": [
        "thousandeyes_df = pd.read_csv( \"/content/drive/MyDrive/Colab Notebooks/clients.csv\" )"
      ],
      "metadata": {
        "id": "hLmhKFSrps4P"
      },
      "execution_count": null,
      "outputs": []
    },
    {
      "cell_type": "code",
      "source": [
        "thousandeyes_df.info()"
      ],
      "metadata": {
        "colab": {
          "base_uri": "https://localhost:8080/"
        },
        "id": "EPPaxHHyqVuE",
        "outputId": "9f28d021-9fac-4bba-db12-211fb5ee26cd"
      },
      "execution_count": null,
      "outputs": [
        {
          "output_type": "stream",
          "name": "stdout",
          "text": [
            "<class 'pandas.core.frame.DataFrame'>\n",
            "RangeIndex: 279845 entries, 0 to 279844\n",
            "Data columns (total 13 columns):\n",
            " #   Column      Non-Null Count   Dtype \n",
            "---  ------      --------------   ----- \n",
            " 0   client_mac  279845 non-null  object\n",
            " 1   date        279845 non-null  object\n",
            " 2   time        279845 non-null  object\n",
            " 3   wlan        279845 non-null  object\n",
            " 4   ap_name     279845 non-null  object\n",
            " 5   site_tag    279845 non-null  object\n",
            " 6   location    279845 non-null  int64 \n",
            " 7   managed     279845 non-null  int64 \n",
            " 8   mab         279845 non-null  int64 \n",
            " 9   dot1        279845 non-null  int64 \n",
            " 10  l3webauth   279845 non-null  int64 \n",
            " 11  l2webauth   279845 non-null  int64 \n",
            " 12  username    42237 non-null   object\n",
            "dtypes: int64(6), object(7)\n",
            "memory usage: 27.8+ MB\n"
          ]
        }
      ]
    },
    {
      "cell_type": "markdown",
      "source": [
        "## EDA\n",
        "- Empty username to be filed with MAC address\n",
        "- New derived column based on SSID name including \"Guest\" will be \"Privilege\"\n",
        "- aX1 : New derived column \"Privilege-score\" where guest gets a score of 10 and for the others we give 0. For guest users there is a webauth policy associated.\n",
        "- bX2 : Check for each username what is the usual MAC address. If this user joins with another MAC address then flag that sample with value \"1\" otherwise \"0\". This is \"Device-score\"\n",
        "- No changes needed for Managed/Un-managed column\n",
        "- cX3 : New column \"Managed-score\" where if managed then 0 and if not managed then 20\n",
        "- dX4 : Determine the usual time for each username. If usual mark as 0 and if unusual then mark as 1. Column name as \"Join-Time-score\"\n",
        "- eX5 : Check if the user joins the usual site tag within office. If yes: 0 else no: 1. We have to check if the site tag is present in one of the logs from the datatset. Column name \"AP-join-score\"\n",
        "- fX6 : 3 values for location. Column name \"Location-score\"\n",
        "- X7: New column \"Security-Factor\" = Privilege-score + Device-score +  Managed-score + Join-Time-score + AP-join-score + Location-score\n",
        "- Y: Classify based on X7 which policy should be applied on the basis of the score calculated.\n"
      ],
      "metadata": {
        "id": "H2NSfPBvyKGr"
      }
    },
    {
      "cell_type": "code",
      "source": [
        "# Empty username to be filed with MAC address\n",
        "# Use fillna to fill column A with values from column B\n",
        "thousandeyes_df['username'].fillna(thousandeyes_df['client_mac'], inplace=True)"
      ],
      "metadata": {
        "id": "9rHZ2__fN19o"
      },
      "execution_count": null,
      "outputs": []
    },
    {
      "cell_type": "code",
      "source": [
        "thousandeyes_df.info()"
      ],
      "metadata": {
        "colab": {
          "base_uri": "https://localhost:8080/"
        },
        "id": "96B8p26xO_BG",
        "outputId": "17151c9b-4359-4dbb-e0af-3fd06111829f"
      },
      "execution_count": null,
      "outputs": [
        {
          "output_type": "stream",
          "name": "stdout",
          "text": [
            "<class 'pandas.core.frame.DataFrame'>\n",
            "RangeIndex: 279845 entries, 0 to 279844\n",
            "Data columns (total 13 columns):\n",
            " #   Column      Non-Null Count   Dtype \n",
            "---  ------      --------------   ----- \n",
            " 0   client_mac  279845 non-null  object\n",
            " 1   date        279845 non-null  object\n",
            " 2   time        279845 non-null  object\n",
            " 3   wlan        279845 non-null  object\n",
            " 4   ap_name     279845 non-null  object\n",
            " 5   site_tag    279845 non-null  object\n",
            " 6   location    279845 non-null  int64 \n",
            " 7   managed     279845 non-null  int64 \n",
            " 8   mab         279845 non-null  int64 \n",
            " 9   dot1        279845 non-null  int64 \n",
            " 10  l3webauth   279845 non-null  int64 \n",
            " 11  l2webauth   279845 non-null  int64 \n",
            " 12  username    279845 non-null  object\n",
            "dtypes: int64(6), object(7)\n",
            "memory usage: 27.8+ MB\n"
          ]
        }
      ]
    },
    {
      "cell_type": "markdown",
      "source": [
        "### aX1 : New derived column \"Privilege-score\" where guest gets a score of 10 and for the others we give 0. For guest users there is a webauth policy associated."
      ],
      "metadata": {
        "id": "RdHqwFbE3boN"
      }
    },
    {
      "cell_type": "code",
      "source": [
        "# Create a new column 'Privilege-score' with a value of 1 if 'guest' is present in 'Text'\n",
        "\n",
        "thousandeyes_df['Privilege-score'] = thousandeyes_df['wlan'].str.contains('guest', case=False).astype(int)"
      ],
      "metadata": {
        "id": "XjYTGmFaPHG8"
      },
      "execution_count": null,
      "outputs": []
    },
    {
      "cell_type": "code",
      "source": [
        "thousandeyes_df['Privilege-score'].value_counts()"
      ],
      "metadata": {
        "colab": {
          "base_uri": "https://localhost:8080/"
        },
        "id": "qJgZq-SmP7Nl",
        "outputId": "25cd69ee-5309-4081-9a5e-399c76fe409a"
      },
      "execution_count": null,
      "outputs": [
        {
          "output_type": "execute_result",
          "data": {
            "text/plain": [
              "0    187957\n",
              "1     91888\n",
              "Name: Privilege-score, dtype: int64"
            ]
          },
          "metadata": {},
          "execution_count": 340
        }
      ]
    },
    {
      "cell_type": "code",
      "source": [
        "thousandeyes_df['Privilege-score'] = thousandeyes_df['Privilege-score'].values * 10"
      ],
      "metadata": {
        "id": "03iunBpVlr2j"
      },
      "execution_count": null,
      "outputs": []
    },
    {
      "cell_type": "code",
      "source": [
        "thousandeyes_df['Privilege-score'].value_counts()"
      ],
      "metadata": {
        "colab": {
          "base_uri": "https://localhost:8080/"
        },
        "id": "ZVNTo9fvlxp3",
        "outputId": "2ede6201-7d04-4acd-ab81-679fae360f33"
      },
      "execution_count": null,
      "outputs": [
        {
          "output_type": "execute_result",
          "data": {
            "text/plain": [
              "0     187957\n",
              "10     91888\n",
              "Name: Privilege-score, dtype: int64"
            ]
          },
          "metadata": {},
          "execution_count": 342
        }
      ]
    },
    {
      "cell_type": "code",
      "source": [
        "thousandeyes_df.info()"
      ],
      "metadata": {
        "colab": {
          "base_uri": "https://localhost:8080/"
        },
        "id": "XcgA8xFxQqQe",
        "outputId": "5c0e930b-ecf5-47a1-fac3-0bb6d706f026"
      },
      "execution_count": null,
      "outputs": [
        {
          "output_type": "stream",
          "name": "stdout",
          "text": [
            "<class 'pandas.core.frame.DataFrame'>\n",
            "RangeIndex: 279845 entries, 0 to 279844\n",
            "Data columns (total 14 columns):\n",
            " #   Column           Non-Null Count   Dtype \n",
            "---  ------           --------------   ----- \n",
            " 0   client_mac       279845 non-null  object\n",
            " 1   date             279845 non-null  object\n",
            " 2   time             279845 non-null  object\n",
            " 3   wlan             279845 non-null  object\n",
            " 4   ap_name          279845 non-null  object\n",
            " 5   site_tag         279845 non-null  object\n",
            " 6   location         279845 non-null  int64 \n",
            " 7   managed          279845 non-null  int64 \n",
            " 8   mab              279845 non-null  int64 \n",
            " 9   dot1             279845 non-null  int64 \n",
            " 10  l3webauth        279845 non-null  int64 \n",
            " 11  l2webauth        279845 non-null  int64 \n",
            " 12  username         279845 non-null  object\n",
            " 13  Privilege-score  279845 non-null  int64 \n",
            "dtypes: int64(7), object(7)\n",
            "memory usage: 29.9+ MB\n"
          ]
        }
      ]
    },
    {
      "cell_type": "markdown",
      "source": [
        "### bX2 : Check for each username what is the usual MAC address. If this user joins with another MAC address then flag that sample"
      ],
      "metadata": {
        "id": "utRDmnZ-3lKz"
      }
    },
    {
      "cell_type": "code",
      "source": [
        "#   with value \"1\" otherwise \"0\". This is \"Device-score\"\n",
        "thousandeyes_df['username'].value_counts()"
      ],
      "metadata": {
        "colab": {
          "base_uri": "https://localhost:8080/"
        },
        "id": "D0Eka-oGTcfi",
        "outputId": "8fd00885-a891-4132-c134-ccf0e5e584eb"
      },
      "execution_count": null,
      "outputs": [
        {
          "output_type": "execute_result",
          "data": {
            "text/plain": [
              "542a.1bfd.8e9e                     40684\n",
              "84a9.3ef7.4a5d                      6502\n",
              "9c30.5bad.65cb                      6476\n",
              "3c55.767a.7e39                      6365\n",
              "(svc_7signal_cert@spe.sony.com)     5530\n",
              "                                   ...  \n",
              "(SC-7P4Q7G3.spe.sony.com)              1\n",
              "a600.ba0e.fb05                         1\n",
              "(SC-CB41PL3.spe.sony.com)              1\n",
              "(FC-67-1F-AC-E2-F6)                    1\n",
              "7c2a.ca75.254d                         1\n",
              "Name: username, Length: 7419, dtype: int64"
            ]
          },
          "metadata": {},
          "execution_count": 344
        }
      ]
    },
    {
      "cell_type": "code",
      "source": [
        "thousandeyes_df['client_mac'].value_counts()"
      ],
      "metadata": {
        "colab": {
          "base_uri": "https://localhost:8080/"
        },
        "id": "kUuuOXeRwqDJ",
        "outputId": "5c192ddb-b86f-4317-ff1d-e748b4927ef6"
      },
      "execution_count": null,
      "outputs": [
        {
          "output_type": "execute_result",
          "data": {
            "text/plain": [
              "542a.1bfd.8e9e    40684\n",
              "84a9.3ef7.4a5d     6502\n",
              "9c30.5bad.65cb     6476\n",
              "3c55.767a.7e39     6365\n",
              "10b9.c44c.dd6f     5337\n",
              "                  ...  \n",
              "2291.433d.2ef7        1\n",
              "d6b3.22a2.03ae        1\n",
              "8cf8.c585.80ae        1\n",
              "b849.6d72.d716        1\n",
              "7c2a.ca75.254d        1\n",
              "Name: client_mac, Length: 4773, dtype: int64"
            ]
          },
          "metadata": {},
          "execution_count": 345
        }
      ]
    },
    {
      "cell_type": "code",
      "source": [
        "# Group the DataFrame by variables A and B and calculate the count of B\n",
        "grouped_thousandeyes_df = thousandeyes_df.groupby(['username', 'client_mac']).size().reset_index(name='Count')\n",
        "\n",
        "# Find the item B with the highest count within each group\n",
        "max_count_df = grouped_thousandeyes_df.groupby('username')['Count'].idxmax()\n",
        "result_df = grouped_thousandeyes_df.loc[max_count_df]\n",
        "\n",
        "# Sort the result DataFrame by count in descending order\n",
        "sorted_df = result_df.sort_values('Count', ascending=False)\n",
        "\n",
        "# Print the sorted DataFrame\n",
        "print(sorted_df)"
      ],
      "metadata": {
        "colab": {
          "base_uri": "https://localhost:8080/"
        },
        "id": "eM-t9xj_vFD8",
        "outputId": "5f30c871-ea31-4d9b-a812-474b06bc8622"
      },
      "execution_count": null,
      "outputs": [
        {
          "output_type": "stream",
          "name": "stdout",
          "text": [
            "                       username      client_mac  Count\n",
            "5337             542a.1bfd.8e9e  542a.1bfd.8e9e  40684\n",
            "6046             84a9.3ef7.4a5d  84a9.3ef7.4a5d   6502\n",
            "6426             9c30.5bad.65cb  9c30.5bad.65cb   6476\n",
            "5023             3c55.767a.7e39  3c55.767a.7e39   6365\n",
            "4234             10b9.c44c.dd6f  10b9.c44c.dd6f   5337\n",
            "...                         ...             ...    ...\n",
            "6910             b0be.834d.25f5  b0be.834d.25f5      1\n",
            "6909             b0be.834c.4109  b0be.834c.4109      1\n",
            "5393             58ce.2a0e.231a  58ce.2a0e.231a      1\n",
            "2988  (SC-95V0QQ2.spe.sony.com)  2016.b9e6.cc2e      1\n",
            "2846  (SC-5CWGML3.spe.sony.com)  8cf8.c578.940c      1\n",
            "\n",
            "[7419 rows x 3 columns]\n"
          ]
        }
      ]
    },
    {
      "cell_type": "code",
      "source": [
        "thousandeyes_df_test = thousandeyes_df"
      ],
      "metadata": {
        "id": "O5wUlZmr0KU5"
      },
      "execution_count": null,
      "outputs": []
    },
    {
      "cell_type": "code",
      "source": [
        "thousandeyes_df_test.info()"
      ],
      "metadata": {
        "colab": {
          "base_uri": "https://localhost:8080/"
        },
        "id": "UIaKLKw70gNO",
        "outputId": "7a0c3cff-b9d1-411c-8aca-8dec69b9c345"
      },
      "execution_count": null,
      "outputs": [
        {
          "output_type": "stream",
          "name": "stdout",
          "text": [
            "<class 'pandas.core.frame.DataFrame'>\n",
            "RangeIndex: 279845 entries, 0 to 279844\n",
            "Data columns (total 14 columns):\n",
            " #   Column           Non-Null Count   Dtype \n",
            "---  ------           --------------   ----- \n",
            " 0   client_mac       279845 non-null  object\n",
            " 1   date             279845 non-null  object\n",
            " 2   time             279845 non-null  object\n",
            " 3   wlan             279845 non-null  object\n",
            " 4   ap_name          279845 non-null  object\n",
            " 5   site_tag         279845 non-null  object\n",
            " 6   location         279845 non-null  int64 \n",
            " 7   managed          279845 non-null  int64 \n",
            " 8   mab              279845 non-null  int64 \n",
            " 9   dot1             279845 non-null  int64 \n",
            " 10  l3webauth        279845 non-null  int64 \n",
            " 11  l2webauth        279845 non-null  int64 \n",
            " 12  username         279845 non-null  object\n",
            " 13  Privilege-score  279845 non-null  int64 \n",
            "dtypes: int64(7), object(7)\n",
            "memory usage: 29.9+ MB\n"
          ]
        }
      ]
    },
    {
      "cell_type": "code",
      "source": [
        "# Create a new column 'NewColumn' and assign 'client_mac' values for corresponding 'username' values\n",
        "unique_mapping = thousandeyes_df_test.drop_duplicates(subset='username')[['username', 'client_mac']]\n",
        "thousandeyes_df_test = thousandeyes_df_test.merge(unique_mapping, on='username', how='left')\n",
        "thousandeyes_df_test.rename(columns={'client_mac': 'NewColumn'}, inplace=True)\n",
        "\n",
        "# Print the updated DataFrame\n",
        "print(thousandeyes_df_test.info())"
      ],
      "metadata": {
        "colab": {
          "base_uri": "https://localhost:8080/"
        },
        "id": "EXjj_nZyy4kq",
        "outputId": "1498d954-eb46-48f2-ad93-6464627f9c37"
      },
      "execution_count": null,
      "outputs": [
        {
          "output_type": "stream",
          "name": "stdout",
          "text": [
            "<class 'pandas.core.frame.DataFrame'>\n",
            "Int64Index: 279845 entries, 0 to 279844\n",
            "Data columns (total 15 columns):\n",
            " #   Column           Non-Null Count   Dtype \n",
            "---  ------           --------------   ----- \n",
            " 0   client_mac_x     279845 non-null  object\n",
            " 1   date             279845 non-null  object\n",
            " 2   time             279845 non-null  object\n",
            " 3   wlan             279845 non-null  object\n",
            " 4   ap_name          279845 non-null  object\n",
            " 5   site_tag         279845 non-null  object\n",
            " 6   location         279845 non-null  int64 \n",
            " 7   managed          279845 non-null  int64 \n",
            " 8   mab              279845 non-null  int64 \n",
            " 9   dot1             279845 non-null  int64 \n",
            " 10  l3webauth        279845 non-null  int64 \n",
            " 11  l2webauth        279845 non-null  int64 \n",
            " 12  username         279845 non-null  object\n",
            " 13  Privilege-score  279845 non-null  int64 \n",
            " 14  client_mac_y     279845 non-null  object\n",
            "dtypes: int64(7), object(8)\n",
            "memory usage: 34.2+ MB\n",
            "None\n"
          ]
        }
      ]
    },
    {
      "cell_type": "code",
      "source": [
        "thousandeyes_df_test['client_mac_x'].value_counts()"
      ],
      "metadata": {
        "colab": {
          "base_uri": "https://localhost:8080/"
        },
        "id": "iKQMuxqt2Ezg",
        "outputId": "15a2616c-6d57-41f6-ea10-3b3bb110f3c3"
      },
      "execution_count": null,
      "outputs": [
        {
          "output_type": "execute_result",
          "data": {
            "text/plain": [
              "542a.1bfd.8e9e    40684\n",
              "84a9.3ef7.4a5d     6502\n",
              "9c30.5bad.65cb     6476\n",
              "3c55.767a.7e39     6365\n",
              "10b9.c44c.dd6f     5337\n",
              "                  ...  \n",
              "2291.433d.2ef7        1\n",
              "d6b3.22a2.03ae        1\n",
              "8cf8.c585.80ae        1\n",
              "b849.6d72.d716        1\n",
              "7c2a.ca75.254d        1\n",
              "Name: client_mac_x, Length: 4773, dtype: int64"
            ]
          },
          "metadata": {},
          "execution_count": 350
        }
      ]
    },
    {
      "cell_type": "code",
      "source": [
        "thousandeyes_df_test['client_mac_y'].value_counts()"
      ],
      "metadata": {
        "colab": {
          "base_uri": "https://localhost:8080/"
        },
        "id": "XiXsBSmW2Tsg",
        "outputId": "24cda0e0-300a-47f7-e131-660c2bfcce69"
      },
      "execution_count": null,
      "outputs": [
        {
          "output_type": "execute_result",
          "data": {
            "text/plain": [
              "542a.1bfd.8e9e    40684\n",
              "04f0.2185.62d8    11132\n",
              "84a9.3ef7.4a5d     6502\n",
              "9c30.5bad.65cb     6476\n",
              "3c55.767a.7e39     6365\n",
              "                  ...  \n",
              "78af.08f3.4fb7        1\n",
              "60dd.8eb4.2ec7        1\n",
              "1e85.2f59.0b87        1\n",
              "ccd9.acaf.2666        1\n",
              "7c2a.ca75.254d        1\n",
              "Name: client_mac_y, Length: 4716, dtype: int64"
            ]
          },
          "metadata": {},
          "execution_count": 351
        }
      ]
    },
    {
      "cell_type": "code",
      "source": [
        "# Create a new column 'Device-score' based on the comparison of 'client_mac_x' and 'client_mac_y'\n",
        "thousandeyes_df_test['Device-score'] = np.where(thousandeyes_df_test['client_mac_x'] != thousandeyes_df_test['client_mac_y'], 1, 0)\n",
        "\n",
        "# Print the updated DataFrame\n",
        "print(thousandeyes_df_test['Device-score'].value_counts())\n"
      ],
      "metadata": {
        "colab": {
          "base_uri": "https://localhost:8080/"
        },
        "id": "vLzhYQH-3BCg",
        "outputId": "1aefe760-c8a4-4185-9f47-5067d7612978"
      },
      "execution_count": null,
      "outputs": [
        {
          "output_type": "stream",
          "name": "stdout",
          "text": [
            "0    267442\n",
            "1     12403\n",
            "Name: Device-score, dtype: int64\n"
          ]
        }
      ]
    },
    {
      "cell_type": "markdown",
      "source": [
        "### cX3 : New column \"Managed-score\" where if managed then 0 and if not managed then 20"
      ],
      "metadata": {
        "id": "C0GS6VNJPGAi"
      }
    },
    {
      "cell_type": "code",
      "source": [
        "thousandeyes_df_test['managed'].value_counts()"
      ],
      "metadata": {
        "colab": {
          "base_uri": "https://localhost:8080/"
        },
        "id": "5hjBislC3540",
        "outputId": "55e1b6f2-39f3-4a4c-e823-936d28529c87"
      },
      "execution_count": null,
      "outputs": [
        {
          "output_type": "execute_result",
          "data": {
            "text/plain": [
              "0    140021\n",
              "1    139824\n",
              "Name: managed, dtype: int64"
            ]
          },
          "metadata": {},
          "execution_count": 353
        }
      ]
    },
    {
      "cell_type": "code",
      "source": [
        "# Create a new column 'managed_score' based on the values in 'managed'\n",
        "thousandeyes_df_test['Managed_score'] = thousandeyes_df_test['managed'].apply(lambda x: 20 if x == 1 else 0)\n"
      ],
      "metadata": {
        "id": "aPImrQ1o4Ukg"
      },
      "execution_count": null,
      "outputs": []
    },
    {
      "cell_type": "code",
      "source": [
        "thousandeyes_df_test['Managed_score'].value_counts()"
      ],
      "metadata": {
        "colab": {
          "base_uri": "https://localhost:8080/"
        },
        "id": "kWbDLpx-4fis",
        "outputId": "287798fb-43ce-4297-8ebc-677b7e62767f"
      },
      "execution_count": null,
      "outputs": [
        {
          "output_type": "execute_result",
          "data": {
            "text/plain": [
              "0     140021\n",
              "20    139824\n",
              "Name: Managed_score, dtype: int64"
            ]
          },
          "metadata": {},
          "execution_count": 355
        }
      ]
    },
    {
      "cell_type": "markdown",
      "source": [
        "### dX4 : Determine the usual time for each username. If usual mark as 0 and if unusual then mark as 1. Column name as \"Join-Time-score\""
      ],
      "metadata": {
        "id": "pqP1aTup4rH3"
      }
    },
    {
      "cell_type": "code",
      "source": [
        "#thousandeyes_df_time = thousandeyes_df_test\n",
        "thousandeyes_df_time1 = thousandeyes_df_test"
      ],
      "metadata": {
        "id": "K0sP3wfg6S6O"
      },
      "execution_count": null,
      "outputs": []
    },
    {
      "cell_type": "code",
      "source": [
        "# Convert the 'time' column to datetime format\n",
        "#thousandeyes_df_time['time'] = pd.to_datetime(thousandeyes_df_time['time'])\n",
        "\n",
        "# Extract the hour component from the 'time' column\n",
        "#thousandeyes_df_time['hour'] = thousandeyes_df_time['time'].dt.hour"
      ],
      "metadata": {
        "id": "DMC0jvSY6PnE"
      },
      "execution_count": null,
      "outputs": []
    },
    {
      "cell_type": "code",
      "source": [
        "# Plot the graph\n",
        "#plt.hist(thousandeyes_df_time['hour'], bins=24, edgecolor='black')\n",
        "#plt.xlabel('Hour of the Day')\n",
        "#plt.ylabel('Count')\n",
        "#plt.title('Distribution of Data Across Hours of the Day')\n",
        "#plt.xticks(range(0, 24))\n",
        "#plt.show()"
      ],
      "metadata": {
        "id": "CbLExbFOFIn0"
      },
      "execution_count": null,
      "outputs": []
    },
    {
      "cell_type": "code",
      "source": [
        "# Convert the 'time' column to datetime format\n",
        "thousandeyes_df_time1['time'] = pd.to_datetime(thousandeyes_df_time1['time'])\n",
        "\n",
        "# Extract the hour component from the 'time' column\n",
        "thousandeyes_df_time1['hour'] = thousandeyes_df_time1['time'].dt.hour\n",
        "\n",
        "bins = [0, 5, 12, 18, 23, 24]  # Specify the range values for each bin\n",
        "labels = ['Night', 'Morning', 'Afternoon', 'Evening', 'Night']"
      ],
      "metadata": {
        "id": "CPdFQRYD7BSV"
      },
      "execution_count": null,
      "outputs": []
    },
    {
      "cell_type": "code",
      "source": [
        "# Plot the graph\n",
        "#plt.hist(thousandeyes_df_time1['hour'], bins=24, edgecolor='black')\n",
        "#plt.xlabel('Hour of the Day')\n",
        "#plt.ylabel('Count')\n",
        "#plt.title('Distribution of Data Across Hours of the Day')\n",
        "#plt.xticks(range(0, 24))\n",
        "#plt.show()"
      ],
      "metadata": {
        "id": "EiCn8ovrHYKk"
      },
      "execution_count": null,
      "outputs": []
    },
    {
      "cell_type": "code",
      "source": [
        "# Create a new column 'hour_classification' and assign hour values based on classification\n",
        "#thousandeyes_df_time1['hour_classification'] = pd.cut(thousandeyes_df_time1['hour'], bins=[0, 6, 12, 18, 24], labels=['Night', 'Morning', 'Afternoon', 'Evening'])\n",
        "thousandeyes_df_time1['hour_classification'] = pd.cut(thousandeyes_df_time1['hour'], bins=bins, labels=labels, right=False, ordered=False)\n",
        "\n",
        "# Print the updated DataFrame\n",
        "print(thousandeyes_df_time1['hour_classification'].value_counts())"
      ],
      "metadata": {
        "colab": {
          "base_uri": "https://localhost:8080/"
        },
        "id": "UM7GrGak8B2V",
        "outputId": "88990963-7b21-45ba-9664-455a0e1a8bd0"
      },
      "execution_count": null,
      "outputs": [
        {
          "output_type": "stream",
          "name": "stdout",
          "text": [
            "Afternoon    142780\n",
            "Night         82122\n",
            "Morning       54943\n",
            "Evening           0\n",
            "Name: hour_classification, dtype: int64\n"
          ]
        }
      ]
    },
    {
      "cell_type": "code",
      "source": [
        "thousandeyes_df_time1.info()"
      ],
      "metadata": {
        "colab": {
          "base_uri": "https://localhost:8080/"
        },
        "id": "vpi3EUj57dCa",
        "outputId": "cd331f8f-afd8-46f1-95cb-6e184f7ab865"
      },
      "execution_count": null,
      "outputs": [
        {
          "output_type": "stream",
          "name": "stdout",
          "text": [
            "<class 'pandas.core.frame.DataFrame'>\n",
            "Int64Index: 279845 entries, 0 to 279844\n",
            "Data columns (total 19 columns):\n",
            " #   Column               Non-Null Count   Dtype         \n",
            "---  ------               --------------   -----         \n",
            " 0   client_mac_x         279845 non-null  object        \n",
            " 1   date                 279845 non-null  object        \n",
            " 2   time                 279845 non-null  datetime64[ns]\n",
            " 3   wlan                 279845 non-null  object        \n",
            " 4   ap_name              279845 non-null  object        \n",
            " 5   site_tag             279845 non-null  object        \n",
            " 6   location             279845 non-null  int64         \n",
            " 7   managed              279845 non-null  int64         \n",
            " 8   mab                  279845 non-null  int64         \n",
            " 9   dot1                 279845 non-null  int64         \n",
            " 10  l3webauth            279845 non-null  int64         \n",
            " 11  l2webauth            279845 non-null  int64         \n",
            " 12  username             279845 non-null  object        \n",
            " 13  Privilege-score      279845 non-null  int64         \n",
            " 14  client_mac_y         279845 non-null  object        \n",
            " 15  Device-score         279845 non-null  int64         \n",
            " 16  Managed_score        279845 non-null  int64         \n",
            " 17  hour                 279845 non-null  int64         \n",
            " 18  hour_classification  279845 non-null  category      \n",
            "dtypes: category(1), datetime64[ns](1), int64(10), object(7)\n",
            "memory usage: 40.8+ MB\n"
          ]
        }
      ]
    },
    {
      "cell_type": "code",
      "source": [
        "print(thousandeyes_df_time1['hour_classification'].unique())"
      ],
      "metadata": {
        "colab": {
          "base_uri": "https://localhost:8080/"
        },
        "id": "aFSNlRdUyzpR",
        "outputId": "5778e7bf-3091-40a1-f285-0c18fea841d9"
      },
      "execution_count": null,
      "outputs": [
        {
          "output_type": "stream",
          "name": "stdout",
          "text": [
            "['Night', 'Morning', 'Afternoon']\n",
            "Categories (4, object): ['Afternoon', 'Evening', 'Morning', 'Night']\n"
          ]
        }
      ]
    },
    {
      "cell_type": "code",
      "source": [
        "print(thousandeyes_df_time1['hour'].unique())"
      ],
      "metadata": {
        "colab": {
          "base_uri": "https://localhost:8080/"
        },
        "id": "dLUIRQK64Shb",
        "outputId": "56ed3ee0-dd23-46b6-cf15-6d22944823b4"
      },
      "execution_count": null,
      "outputs": [
        {
          "output_type": "stream",
          "name": "stdout",
          "text": [
            "[ 0  3  4  8  9 10 12 14  1  2  5  6  7 13 15 16 17 11]\n"
          ]
        }
      ]
    },
    {
      "cell_type": "code",
      "source": [
        "thousandeyes_df_time1[thousandeyes_df_time1['hour_classification'].isna()]"
      ],
      "metadata": {
        "colab": {
          "base_uri": "https://localhost:8080/",
          "height": 131
        },
        "id": "gQ-lWWNi4rCN",
        "outputId": "212207dd-71bb-4716-ed4d-55cc2f4bb059"
      },
      "execution_count": null,
      "outputs": [
        {
          "output_type": "execute_result",
          "data": {
            "text/plain": [
              "Empty DataFrame\n",
              "Columns: [client_mac_x, date, time, wlan, ap_name, site_tag, location, managed, mab, dot1, l3webauth, l2webauth, username, Privilege-score, client_mac_y, Device-score, Managed_score, hour, hour_classification]\n",
              "Index: []"
            ],
            "text/html": [
              "\n",
              "  <div id=\"df-ab12d778-93a8-4fdb-afba-da868e055b85\">\n",
              "    <div class=\"colab-df-container\">\n",
              "      <div>\n",
              "<style scoped>\n",
              "    .dataframe tbody tr th:only-of-type {\n",
              "        vertical-align: middle;\n",
              "    }\n",
              "\n",
              "    .dataframe tbody tr th {\n",
              "        vertical-align: top;\n",
              "    }\n",
              "\n",
              "    .dataframe thead th {\n",
              "        text-align: right;\n",
              "    }\n",
              "</style>\n",
              "<table border=\"1\" class=\"dataframe\">\n",
              "  <thead>\n",
              "    <tr style=\"text-align: right;\">\n",
              "      <th></th>\n",
              "      <th>client_mac_x</th>\n",
              "      <th>date</th>\n",
              "      <th>time</th>\n",
              "      <th>wlan</th>\n",
              "      <th>ap_name</th>\n",
              "      <th>site_tag</th>\n",
              "      <th>location</th>\n",
              "      <th>managed</th>\n",
              "      <th>mab</th>\n",
              "      <th>dot1</th>\n",
              "      <th>l3webauth</th>\n",
              "      <th>l2webauth</th>\n",
              "      <th>username</th>\n",
              "      <th>Privilege-score</th>\n",
              "      <th>client_mac_y</th>\n",
              "      <th>Device-score</th>\n",
              "      <th>Managed_score</th>\n",
              "      <th>hour</th>\n",
              "      <th>hour_classification</th>\n",
              "    </tr>\n",
              "  </thead>\n",
              "  <tbody>\n",
              "  </tbody>\n",
              "</table>\n",
              "</div>\n",
              "      <button class=\"colab-df-convert\" onclick=\"convertToInteractive('df-ab12d778-93a8-4fdb-afba-da868e055b85')\"\n",
              "              title=\"Convert this dataframe to an interactive table.\"\n",
              "              style=\"display:none;\">\n",
              "        \n",
              "  <svg xmlns=\"http://www.w3.org/2000/svg\" height=\"24px\"viewBox=\"0 0 24 24\"\n",
              "       width=\"24px\">\n",
              "    <path d=\"M0 0h24v24H0V0z\" fill=\"none\"/>\n",
              "    <path d=\"M18.56 5.44l.94 2.06.94-2.06 2.06-.94-2.06-.94-.94-2.06-.94 2.06-2.06.94zm-11 1L8.5 8.5l.94-2.06 2.06-.94-2.06-.94L8.5 2.5l-.94 2.06-2.06.94zm10 10l.94 2.06.94-2.06 2.06-.94-2.06-.94-.94-2.06-.94 2.06-2.06.94z\"/><path d=\"M17.41 7.96l-1.37-1.37c-.4-.4-.92-.59-1.43-.59-.52 0-1.04.2-1.43.59L10.3 9.45l-7.72 7.72c-.78.78-.78 2.05 0 2.83L4 21.41c.39.39.9.59 1.41.59.51 0 1.02-.2 1.41-.59l7.78-7.78 2.81-2.81c.8-.78.8-2.07 0-2.86zM5.41 20L4 18.59l7.72-7.72 1.47 1.35L5.41 20z\"/>\n",
              "  </svg>\n",
              "      </button>\n",
              "      \n",
              "  <style>\n",
              "    .colab-df-container {\n",
              "      display:flex;\n",
              "      flex-wrap:wrap;\n",
              "      gap: 12px;\n",
              "    }\n",
              "\n",
              "    .colab-df-convert {\n",
              "      background-color: #E8F0FE;\n",
              "      border: none;\n",
              "      border-radius: 50%;\n",
              "      cursor: pointer;\n",
              "      display: none;\n",
              "      fill: #1967D2;\n",
              "      height: 32px;\n",
              "      padding: 0 0 0 0;\n",
              "      width: 32px;\n",
              "    }\n",
              "\n",
              "    .colab-df-convert:hover {\n",
              "      background-color: #E2EBFA;\n",
              "      box-shadow: 0px 1px 2px rgba(60, 64, 67, 0.3), 0px 1px 3px 1px rgba(60, 64, 67, 0.15);\n",
              "      fill: #174EA6;\n",
              "    }\n",
              "\n",
              "    [theme=dark] .colab-df-convert {\n",
              "      background-color: #3B4455;\n",
              "      fill: #D2E3FC;\n",
              "    }\n",
              "\n",
              "    [theme=dark] .colab-df-convert:hover {\n",
              "      background-color: #434B5C;\n",
              "      box-shadow: 0px 1px 3px 1px rgba(0, 0, 0, 0.15);\n",
              "      filter: drop-shadow(0px 1px 2px rgba(0, 0, 0, 0.3));\n",
              "      fill: #FFFFFF;\n",
              "    }\n",
              "  </style>\n",
              "\n",
              "      <script>\n",
              "        const buttonEl =\n",
              "          document.querySelector('#df-ab12d778-93a8-4fdb-afba-da868e055b85 button.colab-df-convert');\n",
              "        buttonEl.style.display =\n",
              "          google.colab.kernel.accessAllowed ? 'block' : 'none';\n",
              "\n",
              "        async function convertToInteractive(key) {\n",
              "          const element = document.querySelector('#df-ab12d778-93a8-4fdb-afba-da868e055b85');\n",
              "          const dataTable =\n",
              "            await google.colab.kernel.invokeFunction('convertToInteractive',\n",
              "                                                     [key], {});\n",
              "          if (!dataTable) return;\n",
              "\n",
              "          const docLinkHtml = 'Like what you see? Visit the ' +\n",
              "            '<a target=\"_blank\" href=https://colab.research.google.com/notebooks/data_table.ipynb>data table notebook</a>'\n",
              "            + ' to learn more about interactive tables.';\n",
              "          element.innerHTML = '';\n",
              "          dataTable['output_type'] = 'display_data';\n",
              "          await google.colab.output.renderOutput(dataTable, element);\n",
              "          const docLink = document.createElement('div');\n",
              "          docLink.innerHTML = docLinkHtml;\n",
              "          element.appendChild(docLink);\n",
              "        }\n",
              "      </script>\n",
              "    </div>\n",
              "  </div>\n",
              "  "
            ]
          },
          "metadata": {},
          "execution_count": 365
        }
      ]
    },
    {
      "cell_type": "code",
      "source": [
        "thousandeyes_df_time1[thousandeyes_df_time1['hour_classification'] == 'Evening']"
      ],
      "metadata": {
        "colab": {
          "base_uri": "https://localhost:8080/",
          "height": 131
        },
        "id": "YhwzmTl75cjf",
        "outputId": "1a89ad1d-fb49-4496-a69e-9ae7abbe249c"
      },
      "execution_count": null,
      "outputs": [
        {
          "output_type": "execute_result",
          "data": {
            "text/plain": [
              "Empty DataFrame\n",
              "Columns: [client_mac_x, date, time, wlan, ap_name, site_tag, location, managed, mab, dot1, l3webauth, l2webauth, username, Privilege-score, client_mac_y, Device-score, Managed_score, hour, hour_classification]\n",
              "Index: []"
            ],
            "text/html": [
              "\n",
              "  <div id=\"df-d8cd8290-40c8-407c-a50e-143ab1e94280\">\n",
              "    <div class=\"colab-df-container\">\n",
              "      <div>\n",
              "<style scoped>\n",
              "    .dataframe tbody tr th:only-of-type {\n",
              "        vertical-align: middle;\n",
              "    }\n",
              "\n",
              "    .dataframe tbody tr th {\n",
              "        vertical-align: top;\n",
              "    }\n",
              "\n",
              "    .dataframe thead th {\n",
              "        text-align: right;\n",
              "    }\n",
              "</style>\n",
              "<table border=\"1\" class=\"dataframe\">\n",
              "  <thead>\n",
              "    <tr style=\"text-align: right;\">\n",
              "      <th></th>\n",
              "      <th>client_mac_x</th>\n",
              "      <th>date</th>\n",
              "      <th>time</th>\n",
              "      <th>wlan</th>\n",
              "      <th>ap_name</th>\n",
              "      <th>site_tag</th>\n",
              "      <th>location</th>\n",
              "      <th>managed</th>\n",
              "      <th>mab</th>\n",
              "      <th>dot1</th>\n",
              "      <th>l3webauth</th>\n",
              "      <th>l2webauth</th>\n",
              "      <th>username</th>\n",
              "      <th>Privilege-score</th>\n",
              "      <th>client_mac_y</th>\n",
              "      <th>Device-score</th>\n",
              "      <th>Managed_score</th>\n",
              "      <th>hour</th>\n",
              "      <th>hour_classification</th>\n",
              "    </tr>\n",
              "  </thead>\n",
              "  <tbody>\n",
              "  </tbody>\n",
              "</table>\n",
              "</div>\n",
              "      <button class=\"colab-df-convert\" onclick=\"convertToInteractive('df-d8cd8290-40c8-407c-a50e-143ab1e94280')\"\n",
              "              title=\"Convert this dataframe to an interactive table.\"\n",
              "              style=\"display:none;\">\n",
              "        \n",
              "  <svg xmlns=\"http://www.w3.org/2000/svg\" height=\"24px\"viewBox=\"0 0 24 24\"\n",
              "       width=\"24px\">\n",
              "    <path d=\"M0 0h24v24H0V0z\" fill=\"none\"/>\n",
              "    <path d=\"M18.56 5.44l.94 2.06.94-2.06 2.06-.94-2.06-.94-.94-2.06-.94 2.06-2.06.94zm-11 1L8.5 8.5l.94-2.06 2.06-.94-2.06-.94L8.5 2.5l-.94 2.06-2.06.94zm10 10l.94 2.06.94-2.06 2.06-.94-2.06-.94-.94-2.06-.94 2.06-2.06.94z\"/><path d=\"M17.41 7.96l-1.37-1.37c-.4-.4-.92-.59-1.43-.59-.52 0-1.04.2-1.43.59L10.3 9.45l-7.72 7.72c-.78.78-.78 2.05 0 2.83L4 21.41c.39.39.9.59 1.41.59.51 0 1.02-.2 1.41-.59l7.78-7.78 2.81-2.81c.8-.78.8-2.07 0-2.86zM5.41 20L4 18.59l7.72-7.72 1.47 1.35L5.41 20z\"/>\n",
              "  </svg>\n",
              "      </button>\n",
              "      \n",
              "  <style>\n",
              "    .colab-df-container {\n",
              "      display:flex;\n",
              "      flex-wrap:wrap;\n",
              "      gap: 12px;\n",
              "    }\n",
              "\n",
              "    .colab-df-convert {\n",
              "      background-color: #E8F0FE;\n",
              "      border: none;\n",
              "      border-radius: 50%;\n",
              "      cursor: pointer;\n",
              "      display: none;\n",
              "      fill: #1967D2;\n",
              "      height: 32px;\n",
              "      padding: 0 0 0 0;\n",
              "      width: 32px;\n",
              "    }\n",
              "\n",
              "    .colab-df-convert:hover {\n",
              "      background-color: #E2EBFA;\n",
              "      box-shadow: 0px 1px 2px rgba(60, 64, 67, 0.3), 0px 1px 3px 1px rgba(60, 64, 67, 0.15);\n",
              "      fill: #174EA6;\n",
              "    }\n",
              "\n",
              "    [theme=dark] .colab-df-convert {\n",
              "      background-color: #3B4455;\n",
              "      fill: #D2E3FC;\n",
              "    }\n",
              "\n",
              "    [theme=dark] .colab-df-convert:hover {\n",
              "      background-color: #434B5C;\n",
              "      box-shadow: 0px 1px 3px 1px rgba(0, 0, 0, 0.15);\n",
              "      filter: drop-shadow(0px 1px 2px rgba(0, 0, 0, 0.3));\n",
              "      fill: #FFFFFF;\n",
              "    }\n",
              "  </style>\n",
              "\n",
              "      <script>\n",
              "        const buttonEl =\n",
              "          document.querySelector('#df-d8cd8290-40c8-407c-a50e-143ab1e94280 button.colab-df-convert');\n",
              "        buttonEl.style.display =\n",
              "          google.colab.kernel.accessAllowed ? 'block' : 'none';\n",
              "\n",
              "        async function convertToInteractive(key) {\n",
              "          const element = document.querySelector('#df-d8cd8290-40c8-407c-a50e-143ab1e94280');\n",
              "          const dataTable =\n",
              "            await google.colab.kernel.invokeFunction('convertToInteractive',\n",
              "                                                     [key], {});\n",
              "          if (!dataTable) return;\n",
              "\n",
              "          const docLinkHtml = 'Like what you see? Visit the ' +\n",
              "            '<a target=\"_blank\" href=https://colab.research.google.com/notebooks/data_table.ipynb>data table notebook</a>'\n",
              "            + ' to learn more about interactive tables.';\n",
              "          element.innerHTML = '';\n",
              "          dataTable['output_type'] = 'display_data';\n",
              "          await google.colab.output.renderOutput(dataTable, element);\n",
              "          const docLink = document.createElement('div');\n",
              "          docLink.innerHTML = docLinkHtml;\n",
              "          element.appendChild(docLink);\n",
              "        }\n",
              "      </script>\n",
              "    </div>\n",
              "  </div>\n",
              "  "
            ]
          },
          "metadata": {},
          "execution_count": 366
        }
      ]
    },
    {
      "cell_type": "code",
      "source": [
        "# Group the DataFrame by variables A and B and calculate the count of B\n",
        "thousandeyes_df_time1_hour = thousandeyes_df_time1.groupby(['username', 'hour_classification']).size().reset_index(name='Count')\n",
        "\n",
        "# Find the item B with the highest count within each group\n",
        "max_count_df_hour = thousandeyes_df_time1_hour.groupby('username')['Count'].idxmax()\n",
        "result_df_hour = thousandeyes_df_time1_hour.loc[max_count_df_hour]\n",
        "\n",
        "# Sort the result DataFrame by count in descending order\n",
        "sorted_df_hour = result_df_hour.sort_values('Count', ascending=False)\n",
        "\n",
        "# Print the sorted DataFrame\n",
        "print(sorted_df_hour)"
      ],
      "metadata": {
        "colab": {
          "base_uri": "https://localhost:8080/"
        },
        "id": "OTPwWoPe9lkx",
        "outputId": "c69cec5c-8a80-4583-8068-7948f02cc8d5"
      },
      "execution_count": null,
      "outputs": [
        {
          "output_type": "stream",
          "name": "stdout",
          "text": [
            "                                                username hour_classification  \\\n",
            "19214                                     542a.1bfd.8e9e             Morning   \n",
            "22050                                     84a9.3ef7.4a5d             Morning   \n",
            "23570                                     9c30.5bad.65cb             Morning   \n",
            "17958                                     3c55.767a.7e39             Morning   \n",
            "13287                                 (svc_7signal_cert)               Night   \n",
            "...                                                  ...                 ...   \n",
            "5690   (Enrollment-d4313c02-f873-4f5a-949e-7a09189a388d)             Morning   \n",
            "25100                                     ac67.5d17.9990           Afternoon   \n",
            "5698   (Enrollment-d48d3e1b-bf38-4612-a190-f637ce49d1e7)             Morning   \n",
            "25092                                     ac67.5d14.ae24           Afternoon   \n",
            "15488                                     18fa.b787.c0f5           Afternoon   \n",
            "\n",
            "       Count  \n",
            "19214  17399  \n",
            "22050   2691  \n",
            "23570   2689  \n",
            "17958   2562  \n",
            "13287   2338  \n",
            "...      ...  \n",
            "5690       1  \n",
            "25100      1  \n",
            "5698       1  \n",
            "25092      1  \n",
            "15488      1  \n",
            "\n",
            "[7419 rows x 3 columns]\n"
          ]
        }
      ]
    },
    {
      "cell_type": "code",
      "source": [
        "thousandeyes_df_time1.info()"
      ],
      "metadata": {
        "colab": {
          "base_uri": "https://localhost:8080/"
        },
        "id": "qX93tlyAGhXD",
        "outputId": "d1b19bc1-e5e6-4a11-94d8-906455856de0"
      },
      "execution_count": null,
      "outputs": [
        {
          "output_type": "stream",
          "name": "stdout",
          "text": [
            "<class 'pandas.core.frame.DataFrame'>\n",
            "Int64Index: 279845 entries, 0 to 279844\n",
            "Data columns (total 19 columns):\n",
            " #   Column               Non-Null Count   Dtype         \n",
            "---  ------               --------------   -----         \n",
            " 0   client_mac_x         279845 non-null  object        \n",
            " 1   date                 279845 non-null  object        \n",
            " 2   time                 279845 non-null  datetime64[ns]\n",
            " 3   wlan                 279845 non-null  object        \n",
            " 4   ap_name              279845 non-null  object        \n",
            " 5   site_tag             279845 non-null  object        \n",
            " 6   location             279845 non-null  int64         \n",
            " 7   managed              279845 non-null  int64         \n",
            " 8   mab                  279845 non-null  int64         \n",
            " 9   dot1                 279845 non-null  int64         \n",
            " 10  l3webauth            279845 non-null  int64         \n",
            " 11  l2webauth            279845 non-null  int64         \n",
            " 12  username             279845 non-null  object        \n",
            " 13  Privilege-score      279845 non-null  int64         \n",
            " 14  client_mac_y         279845 non-null  object        \n",
            " 15  Device-score         279845 non-null  int64         \n",
            " 16  Managed_score        279845 non-null  int64         \n",
            " 17  hour                 279845 non-null  int64         \n",
            " 18  hour_classification  279845 non-null  category      \n",
            "dtypes: category(1), datetime64[ns](1), int64(10), object(7)\n",
            "memory usage: 40.8+ MB\n"
          ]
        }
      ]
    },
    {
      "cell_type": "code",
      "source": [
        "# Create a new column 'NewColumn' and assign 'hour_classification' values for corresponding 'username' values\n",
        "unique_mapping_hour = thousandeyes_df_time1.drop_duplicates(subset='username')[['username', 'hour_classification']]"
      ],
      "metadata": {
        "id": "SewMt0bZETpp"
      },
      "execution_count": null,
      "outputs": []
    },
    {
      "cell_type": "code",
      "source": [
        "thousandeyes_df_time1.info()"
      ],
      "metadata": {
        "colab": {
          "base_uri": "https://localhost:8080/"
        },
        "id": "y7k_alyPHqfc",
        "outputId": "f3100dad-2f6d-44bd-ec13-11ecd5a8754f"
      },
      "execution_count": null,
      "outputs": [
        {
          "output_type": "stream",
          "name": "stdout",
          "text": [
            "<class 'pandas.core.frame.DataFrame'>\n",
            "Int64Index: 279845 entries, 0 to 279844\n",
            "Data columns (total 19 columns):\n",
            " #   Column               Non-Null Count   Dtype         \n",
            "---  ------               --------------   -----         \n",
            " 0   client_mac_x         279845 non-null  object        \n",
            " 1   date                 279845 non-null  object        \n",
            " 2   time                 279845 non-null  datetime64[ns]\n",
            " 3   wlan                 279845 non-null  object        \n",
            " 4   ap_name              279845 non-null  object        \n",
            " 5   site_tag             279845 non-null  object        \n",
            " 6   location             279845 non-null  int64         \n",
            " 7   managed              279845 non-null  int64         \n",
            " 8   mab                  279845 non-null  int64         \n",
            " 9   dot1                 279845 non-null  int64         \n",
            " 10  l3webauth            279845 non-null  int64         \n",
            " 11  l2webauth            279845 non-null  int64         \n",
            " 12  username             279845 non-null  object        \n",
            " 13  Privilege-score      279845 non-null  int64         \n",
            " 14  client_mac_y         279845 non-null  object        \n",
            " 15  Device-score         279845 non-null  int64         \n",
            " 16  Managed_score        279845 non-null  int64         \n",
            " 17  hour                 279845 non-null  int64         \n",
            " 18  hour_classification  279845 non-null  category      \n",
            "dtypes: category(1), datetime64[ns](1), int64(10), object(7)\n",
            "memory usage: 40.8+ MB\n"
          ]
        }
      ]
    },
    {
      "cell_type": "code",
      "source": [
        "thousandeyes_df_time1 = thousandeyes_df_time1.merge(unique_mapping_hour, on='username', how='left')\n",
        "thousandeyes_df_time1.rename(columns={'hour_classification': 'NewColumn'}, inplace=True)\n",
        "\n",
        "# Print the updated DataFrame\n",
        "print(thousandeyes_df_time1.info())"
      ],
      "metadata": {
        "colab": {
          "base_uri": "https://localhost:8080/"
        },
        "id": "a8lJuaHoGbJM",
        "outputId": "a76962c3-96a4-4277-e539-3b321ecb09fa"
      },
      "execution_count": null,
      "outputs": [
        {
          "output_type": "stream",
          "name": "stdout",
          "text": [
            "<class 'pandas.core.frame.DataFrame'>\n",
            "Int64Index: 279845 entries, 0 to 279844\n",
            "Data columns (total 20 columns):\n",
            " #   Column                 Non-Null Count   Dtype         \n",
            "---  ------                 --------------   -----         \n",
            " 0   client_mac_x           279845 non-null  object        \n",
            " 1   date                   279845 non-null  object        \n",
            " 2   time                   279845 non-null  datetime64[ns]\n",
            " 3   wlan                   279845 non-null  object        \n",
            " 4   ap_name                279845 non-null  object        \n",
            " 5   site_tag               279845 non-null  object        \n",
            " 6   location               279845 non-null  int64         \n",
            " 7   managed                279845 non-null  int64         \n",
            " 8   mab                    279845 non-null  int64         \n",
            " 9   dot1                   279845 non-null  int64         \n",
            " 10  l3webauth              279845 non-null  int64         \n",
            " 11  l2webauth              279845 non-null  int64         \n",
            " 12  username               279845 non-null  object        \n",
            " 13  Privilege-score        279845 non-null  int64         \n",
            " 14  client_mac_y           279845 non-null  object        \n",
            " 15  Device-score           279845 non-null  int64         \n",
            " 16  Managed_score          279845 non-null  int64         \n",
            " 17  hour                   279845 non-null  int64         \n",
            " 18  hour_classification_x  279845 non-null  category      \n",
            " 19  hour_classification_y  279845 non-null  category      \n",
            "dtypes: category(2), datetime64[ns](1), int64(10), object(7)\n",
            "memory usage: 41.1+ MB\n",
            "None\n"
          ]
        }
      ]
    },
    {
      "cell_type": "code",
      "source": [
        "# Create a new column 'Hour-Common' based on the comparison of 'hour_classification_x' and 'hour_classification_y'\n",
        "thousandeyes_df_time1['Hour-Common'] = np.where(thousandeyes_df_time1['hour_classification_x'] != thousandeyes_df_time1['hour_classification_y'], 1, 0)\n",
        "\n",
        "# Print the updated DataFrame\n",
        "print(thousandeyes_df_time1['Hour-Common'].value_counts())"
      ],
      "metadata": {
        "colab": {
          "base_uri": "https://localhost:8080/"
        },
        "id": "IQ0Ps0rK-D-t",
        "outputId": "c2e7c8a5-5e3d-47b3-dea1-6c0129b4f939"
      },
      "execution_count": null,
      "outputs": [
        {
          "output_type": "stream",
          "name": "stdout",
          "text": [
            "0    164439\n",
            "1    115406\n",
            "Name: Hour-Common, dtype: int64\n"
          ]
        }
      ]
    },
    {
      "cell_type": "code",
      "source": [
        "# Print the updated DataFrame\n",
        "print(thousandeyes_df_time1.info())"
      ],
      "metadata": {
        "colab": {
          "base_uri": "https://localhost:8080/"
        },
        "id": "0sKzj_z7IaP0",
        "outputId": "f0aacbbb-1c87-470a-91c3-407c35615f5a"
      },
      "execution_count": null,
      "outputs": [
        {
          "output_type": "stream",
          "name": "stdout",
          "text": [
            "<class 'pandas.core.frame.DataFrame'>\n",
            "Int64Index: 279845 entries, 0 to 279844\n",
            "Data columns (total 21 columns):\n",
            " #   Column                 Non-Null Count   Dtype         \n",
            "---  ------                 --------------   -----         \n",
            " 0   client_mac_x           279845 non-null  object        \n",
            " 1   date                   279845 non-null  object        \n",
            " 2   time                   279845 non-null  datetime64[ns]\n",
            " 3   wlan                   279845 non-null  object        \n",
            " 4   ap_name                279845 non-null  object        \n",
            " 5   site_tag               279845 non-null  object        \n",
            " 6   location               279845 non-null  int64         \n",
            " 7   managed                279845 non-null  int64         \n",
            " 8   mab                    279845 non-null  int64         \n",
            " 9   dot1                   279845 non-null  int64         \n",
            " 10  l3webauth              279845 non-null  int64         \n",
            " 11  l2webauth              279845 non-null  int64         \n",
            " 12  username               279845 non-null  object        \n",
            " 13  Privilege-score        279845 non-null  int64         \n",
            " 14  client_mac_y           279845 non-null  object        \n",
            " 15  Device-score           279845 non-null  int64         \n",
            " 16  Managed_score          279845 non-null  int64         \n",
            " 17  hour                   279845 non-null  int64         \n",
            " 18  hour_classification_x  279845 non-null  category      \n",
            " 19  hour_classification_y  279845 non-null  category      \n",
            " 20  Hour-Common            279845 non-null  int64         \n",
            "dtypes: category(2), datetime64[ns](1), int64(11), object(7)\n",
            "memory usage: 43.2+ MB\n",
            "None\n"
          ]
        }
      ]
    },
    {
      "cell_type": "markdown",
      "source": [
        "### eX5 : Check if the user joins the usual site tag within office. If yes: 0 else no: 1. We have to check if the site tag is present in one of the logs from the datatset. Column name \"AP-join-score\""
      ],
      "metadata": {
        "id": "cUdkQFFjul_j"
      }
    },
    {
      "cell_type": "code",
      "source": [
        "thousandeyes_df_sitetag = thousandeyes_df_time1"
      ],
      "metadata": {
        "id": "v_8jSLWWI1Ht"
      },
      "execution_count": null,
      "outputs": []
    },
    {
      "cell_type": "code",
      "source": [
        "#Group the DataFrame by variables A and B and calculate the count of B\n",
        "thousandeyes_df_sitetag_site = thousandeyes_df_sitetag.groupby(['username', 'site_tag']).size().reset_index(name='Count')\n",
        "\n",
        "# Find the item B with the highest count within each group\n",
        "max_count_df_site = thousandeyes_df_sitetag_site.groupby('username')['Count'].idxmax()\n",
        "result_df_site = thousandeyes_df_sitetag_site.loc[max_count_df_site]\n",
        "\n",
        "# Sort the result DataFrame by count in descending order\n",
        "sorted_df_site = result_df_site.sort_values('Count', ascending=False)\n",
        "\n",
        "# Print the sorted DataFrame\n",
        "print(sorted_df_site)"
      ],
      "metadata": {
        "colab": {
          "base_uri": "https://localhost:8080/"
        },
        "id": "z5PmczlwJJ1J",
        "outputId": "e8a03b8e-b0eb-4913-c019-eda348334f5e"
      },
      "execution_count": null,
      "outputs": [
        {
          "output_type": "stream",
          "name": "stdout",
          "text": [
            "                                                username           site_tag  \\\n",
            "25863                                     542a.1bfd.8e9e    USLAXJCO-3-AP07   \n",
            "14974                                     10b9.c44c.dd6f  USLAXLEAN-2-AP230   \n",
            "40869                                     a851.aba2.705b    USLAXS06-5-AP60   \n",
            "22245                                     3c55.767a.7e39    USLAXS25-1-AP10   \n",
            "34079                                     84a9.3ef7.4a5d   USLAXCAP-2-AP103   \n",
            "...                                                  ...                ...   \n",
            "18810                                     2441.8cc2.7fa4    USLAXBUR-2-AP48   \n",
            "4971   (Enrollment-e8a60805-4f45-46e7-893a-6dc907aeaf3e)   USLAXAUT-3-AP401   \n",
            "4969   (Enrollment-e8868a14-22c8-410b-b13c-50ef2c3acd5a)   USLAXCAP-2-AP100   \n",
            "18807                                     2441.8cc2.4ef8    USLAXMOR-2-AP25   \n",
            "3989   (Enrollment-48a7283e-ef5e-40f2-9ce4-9fa0b0a00ac9)    USLAXBUR-1-AP34   \n",
            "\n",
            "       Count  \n",
            "25863   6061  \n",
            "14974   3591  \n",
            "40869   2593  \n",
            "22245   1296  \n",
            "34079   1265  \n",
            "...      ...  \n",
            "18810      1  \n",
            "4971       1  \n",
            "4969       1  \n",
            "18807      1  \n",
            "3989       1  \n",
            "\n",
            "[7419 rows x 3 columns]\n"
          ]
        }
      ]
    },
    {
      "cell_type": "code",
      "source": [
        "thousandeyes_df_sitetag.info()"
      ],
      "metadata": {
        "colab": {
          "base_uri": "https://localhost:8080/"
        },
        "id": "BZcfi7Z2JJ8J",
        "outputId": "7b4bd7eb-f3d3-411a-ea17-0196580c42aa"
      },
      "execution_count": null,
      "outputs": [
        {
          "output_type": "stream",
          "name": "stdout",
          "text": [
            "<class 'pandas.core.frame.DataFrame'>\n",
            "Int64Index: 279845 entries, 0 to 279844\n",
            "Data columns (total 21 columns):\n",
            " #   Column                 Non-Null Count   Dtype         \n",
            "---  ------                 --------------   -----         \n",
            " 0   client_mac_x           279845 non-null  object        \n",
            " 1   date                   279845 non-null  object        \n",
            " 2   time                   279845 non-null  datetime64[ns]\n",
            " 3   wlan                   279845 non-null  object        \n",
            " 4   ap_name                279845 non-null  object        \n",
            " 5   site_tag               279845 non-null  object        \n",
            " 6   location               279845 non-null  int64         \n",
            " 7   managed                279845 non-null  int64         \n",
            " 8   mab                    279845 non-null  int64         \n",
            " 9   dot1                   279845 non-null  int64         \n",
            " 10  l3webauth              279845 non-null  int64         \n",
            " 11  l2webauth              279845 non-null  int64         \n",
            " 12  username               279845 non-null  object        \n",
            " 13  Privilege-score        279845 non-null  int64         \n",
            " 14  client_mac_y           279845 non-null  object        \n",
            " 15  Device-score           279845 non-null  int64         \n",
            " 16  Managed_score          279845 non-null  int64         \n",
            " 17  hour                   279845 non-null  int64         \n",
            " 18  hour_classification_x  279845 non-null  category      \n",
            " 19  hour_classification_y  279845 non-null  category      \n",
            " 20  Hour-Common            279845 non-null  int64         \n",
            "dtypes: category(2), datetime64[ns](1), int64(11), object(7)\n",
            "memory usage: 43.2+ MB\n"
          ]
        }
      ]
    },
    {
      "cell_type": "code",
      "source": [
        "# Create a new column 'NewColumn' and assign 'site_classification' values for corresponding 'username' values\n",
        "unique_mapping_site = thousandeyes_df_sitetag.drop_duplicates(subset='username')[['username', 'site_tag']]"
      ],
      "metadata": {
        "id": "8LYcuegbJJ-1"
      },
      "execution_count": null,
      "outputs": []
    },
    {
      "cell_type": "code",
      "source": [
        "thousandeyes_df_sitetag.info()"
      ],
      "metadata": {
        "colab": {
          "base_uri": "https://localhost:8080/"
        },
        "id": "M-C5MUwoJKG5",
        "outputId": "f2a78424-d856-4710-afe3-bc1bd34418db"
      },
      "execution_count": null,
      "outputs": [
        {
          "output_type": "stream",
          "name": "stdout",
          "text": [
            "<class 'pandas.core.frame.DataFrame'>\n",
            "Int64Index: 279845 entries, 0 to 279844\n",
            "Data columns (total 21 columns):\n",
            " #   Column                 Non-Null Count   Dtype         \n",
            "---  ------                 --------------   -----         \n",
            " 0   client_mac_x           279845 non-null  object        \n",
            " 1   date                   279845 non-null  object        \n",
            " 2   time                   279845 non-null  datetime64[ns]\n",
            " 3   wlan                   279845 non-null  object        \n",
            " 4   ap_name                279845 non-null  object        \n",
            " 5   site_tag               279845 non-null  object        \n",
            " 6   location               279845 non-null  int64         \n",
            " 7   managed                279845 non-null  int64         \n",
            " 8   mab                    279845 non-null  int64         \n",
            " 9   dot1                   279845 non-null  int64         \n",
            " 10  l3webauth              279845 non-null  int64         \n",
            " 11  l2webauth              279845 non-null  int64         \n",
            " 12  username               279845 non-null  object        \n",
            " 13  Privilege-score        279845 non-null  int64         \n",
            " 14  client_mac_y           279845 non-null  object        \n",
            " 15  Device-score           279845 non-null  int64         \n",
            " 16  Managed_score          279845 non-null  int64         \n",
            " 17  hour                   279845 non-null  int64         \n",
            " 18  hour_classification_x  279845 non-null  category      \n",
            " 19  hour_classification_y  279845 non-null  category      \n",
            " 20  Hour-Common            279845 non-null  int64         \n",
            "dtypes: category(2), datetime64[ns](1), int64(11), object(7)\n",
            "memory usage: 43.2+ MB\n"
          ]
        }
      ]
    },
    {
      "cell_type": "code",
      "source": [
        "thousandeyes_df_sitetag = thousandeyes_df_sitetag.merge(unique_mapping_site, on='username', how='left')\n",
        "thousandeyes_df_sitetag.rename(columns={'site_tag': 'NewColumn'}, inplace=True)\n",
        "\n",
        "# Print the updated DataFrame\n",
        "print(thousandeyes_df_sitetag.info())"
      ],
      "metadata": {
        "colab": {
          "base_uri": "https://localhost:8080/"
        },
        "id": "5t2Yb6ZUJzL_",
        "outputId": "eda746de-fd12-4330-f3c1-f27c41f72eae"
      },
      "execution_count": null,
      "outputs": [
        {
          "output_type": "stream",
          "name": "stdout",
          "text": [
            "<class 'pandas.core.frame.DataFrame'>\n",
            "Int64Index: 279845 entries, 0 to 279844\n",
            "Data columns (total 22 columns):\n",
            " #   Column                 Non-Null Count   Dtype         \n",
            "---  ------                 --------------   -----         \n",
            " 0   client_mac_x           279845 non-null  object        \n",
            " 1   date                   279845 non-null  object        \n",
            " 2   time                   279845 non-null  datetime64[ns]\n",
            " 3   wlan                   279845 non-null  object        \n",
            " 4   ap_name                279845 non-null  object        \n",
            " 5   site_tag_x             279845 non-null  object        \n",
            " 6   location               279845 non-null  int64         \n",
            " 7   managed                279845 non-null  int64         \n",
            " 8   mab                    279845 non-null  int64         \n",
            " 9   dot1                   279845 non-null  int64         \n",
            " 10  l3webauth              279845 non-null  int64         \n",
            " 11  l2webauth              279845 non-null  int64         \n",
            " 12  username               279845 non-null  object        \n",
            " 13  Privilege-score        279845 non-null  int64         \n",
            " 14  client_mac_y           279845 non-null  object        \n",
            " 15  Device-score           279845 non-null  int64         \n",
            " 16  Managed_score          279845 non-null  int64         \n",
            " 17  hour                   279845 non-null  int64         \n",
            " 18  hour_classification_x  279845 non-null  category      \n",
            " 19  hour_classification_y  279845 non-null  category      \n",
            " 20  Hour-Common            279845 non-null  int64         \n",
            " 21  site_tag_y             279845 non-null  object        \n",
            "dtypes: category(2), datetime64[ns](1), int64(11), object(8)\n",
            "memory usage: 45.4+ MB\n",
            "None\n"
          ]
        }
      ]
    },
    {
      "cell_type": "code",
      "source": [
        "# Create a new column 'Site-Common' based on the comparison of 'site_tag_x' and 'site_tag_y'\n",
        "thousandeyes_df_sitetag['Site-Common'] = np.where(thousandeyes_df_sitetag['site_tag_x'] != thousandeyes_df_sitetag['site_tag_y'], 1, 0)\n",
        "\n",
        "# Print the updated DataFrame\n",
        "print(thousandeyes_df_sitetag['Site-Common'].value_counts())"
      ],
      "metadata": {
        "colab": {
          "base_uri": "https://localhost:8080/"
        },
        "id": "zzImtQV1JzOT",
        "outputId": "5de982c5-5760-431e-a17d-6fc9419a7abb"
      },
      "execution_count": null,
      "outputs": [
        {
          "output_type": "stream",
          "name": "stdout",
          "text": [
            "1    214443\n",
            "0     65402\n",
            "Name: Site-Common, dtype: int64\n"
          ]
        }
      ]
    },
    {
      "cell_type": "code",
      "source": [
        "thousandeyes_df_sitetag.info()"
      ],
      "metadata": {
        "colab": {
          "base_uri": "https://localhost:8080/"
        },
        "id": "rfN1iSzEJzQp",
        "outputId": "685cc6cd-2530-410a-a50c-9a7bbd07ba0c"
      },
      "execution_count": null,
      "outputs": [
        {
          "output_type": "stream",
          "name": "stdout",
          "text": [
            "<class 'pandas.core.frame.DataFrame'>\n",
            "Int64Index: 279845 entries, 0 to 279844\n",
            "Data columns (total 23 columns):\n",
            " #   Column                 Non-Null Count   Dtype         \n",
            "---  ------                 --------------   -----         \n",
            " 0   client_mac_x           279845 non-null  object        \n",
            " 1   date                   279845 non-null  object        \n",
            " 2   time                   279845 non-null  datetime64[ns]\n",
            " 3   wlan                   279845 non-null  object        \n",
            " 4   ap_name                279845 non-null  object        \n",
            " 5   site_tag_x             279845 non-null  object        \n",
            " 6   location               279845 non-null  int64         \n",
            " 7   managed                279845 non-null  int64         \n",
            " 8   mab                    279845 non-null  int64         \n",
            " 9   dot1                   279845 non-null  int64         \n",
            " 10  l3webauth              279845 non-null  int64         \n",
            " 11  l2webauth              279845 non-null  int64         \n",
            " 12  username               279845 non-null  object        \n",
            " 13  Privilege-score        279845 non-null  int64         \n",
            " 14  client_mac_y           279845 non-null  object        \n",
            " 15  Device-score           279845 non-null  int64         \n",
            " 16  Managed_score          279845 non-null  int64         \n",
            " 17  hour                   279845 non-null  int64         \n",
            " 18  hour_classification_x  279845 non-null  category      \n",
            " 19  hour_classification_y  279845 non-null  category      \n",
            " 20  Hour-Common            279845 non-null  int64         \n",
            " 21  site_tag_y             279845 non-null  object        \n",
            " 22  Site-Common            279845 non-null  int64         \n",
            "dtypes: category(2), datetime64[ns](1), int64(12), object(8)\n",
            "memory usage: 47.5+ MB\n"
          ]
        }
      ]
    },
    {
      "cell_type": "markdown",
      "source": [
        "### fX6 : 3 values for location. Column name \"Location-score\" 0 -> local, 1 --> remote,  2 --> home . Give score of 1 for unusual location which is not local"
      ],
      "metadata": {
        "id": "P47aQmOauZTc"
      }
    },
    {
      "cell_type": "code",
      "source": [
        "thousandeyes_df_sitetag['location'].value_counts()"
      ],
      "metadata": {
        "colab": {
          "base_uri": "https://localhost:8080/"
        },
        "id": "FAX1L93UNIpt",
        "outputId": "f99950d7-d52b-4a78-ed7d-76bae0eca149"
      },
      "execution_count": null,
      "outputs": [
        {
          "output_type": "execute_result",
          "data": {
            "text/plain": [
              "2    93562\n",
              "1    93387\n",
              "0    92896\n",
              "Name: location, dtype: int64"
            ]
          },
          "metadata": {},
          "execution_count": 382
        }
      ]
    },
    {
      "cell_type": "code",
      "source": [
        "thousandeyes_df_sitetag['location_score'] = np.where(thousandeyes_df_sitetag['location'] != 0, 1, 0)"
      ],
      "metadata": {
        "id": "gQ97SPs7PXAJ"
      },
      "execution_count": null,
      "outputs": []
    },
    {
      "cell_type": "code",
      "source": [
        "thousandeyes_df_sitetag.info()"
      ],
      "metadata": {
        "colab": {
          "base_uri": "https://localhost:8080/"
        },
        "id": "Ikzq1A3zPgTG",
        "outputId": "82e5230c-4b19-4f8d-9c37-6319831842fd"
      },
      "execution_count": null,
      "outputs": [
        {
          "output_type": "stream",
          "name": "stdout",
          "text": [
            "<class 'pandas.core.frame.DataFrame'>\n",
            "Int64Index: 279845 entries, 0 to 279844\n",
            "Data columns (total 24 columns):\n",
            " #   Column                 Non-Null Count   Dtype         \n",
            "---  ------                 --------------   -----         \n",
            " 0   client_mac_x           279845 non-null  object        \n",
            " 1   date                   279845 non-null  object        \n",
            " 2   time                   279845 non-null  datetime64[ns]\n",
            " 3   wlan                   279845 non-null  object        \n",
            " 4   ap_name                279845 non-null  object        \n",
            " 5   site_tag_x             279845 non-null  object        \n",
            " 6   location               279845 non-null  int64         \n",
            " 7   managed                279845 non-null  int64         \n",
            " 8   mab                    279845 non-null  int64         \n",
            " 9   dot1                   279845 non-null  int64         \n",
            " 10  l3webauth              279845 non-null  int64         \n",
            " 11  l2webauth              279845 non-null  int64         \n",
            " 12  username               279845 non-null  object        \n",
            " 13  Privilege-score        279845 non-null  int64         \n",
            " 14  client_mac_y           279845 non-null  object        \n",
            " 15  Device-score           279845 non-null  int64         \n",
            " 16  Managed_score          279845 non-null  int64         \n",
            " 17  hour                   279845 non-null  int64         \n",
            " 18  hour_classification_x  279845 non-null  category      \n",
            " 19  hour_classification_y  279845 non-null  category      \n",
            " 20  Hour-Common            279845 non-null  int64         \n",
            " 21  site_tag_y             279845 non-null  object        \n",
            " 22  Site-Common            279845 non-null  int64         \n",
            " 23  location_score         279845 non-null  int64         \n",
            "dtypes: category(2), datetime64[ns](1), int64(13), object(8)\n",
            "memory usage: 49.6+ MB\n"
          ]
        }
      ]
    },
    {
      "cell_type": "markdown",
      "source": [
        "### X7: New column \"Security-Factor\" = Privilege-score + Device-score +  Managed-score + Join-Time-score + AP-join-score + Location-score"
      ],
      "metadata": {
        "id": "AdXQV5giuc-l"
      }
    },
    {
      "cell_type": "code",
      "source": [
        "thousandeyes_df_sitetag['Security-Factor'] = thousandeyes_df_sitetag['Privilege-score'] + thousandeyes_df_sitetag['Device-score'] + thousandeyes_df_sitetag['Managed_score'] + thousandeyes_df_sitetag['Hour-Common'] + thousandeyes_df_sitetag['Site-Common'] + thousandeyes_df_sitetag['location_score']\n"
      ],
      "metadata": {
        "id": "4d0XT8tJPocu"
      },
      "execution_count": null,
      "outputs": []
    },
    {
      "cell_type": "code",
      "source": [
        "thousandeyes_df_sitetag['Security-Factor'].value_counts()"
      ],
      "metadata": {
        "colab": {
          "base_uri": "https://localhost:8080/"
        },
        "id": "R_HqXqZrQ2Jb",
        "outputId": "e0cebba0-2ab4-4466-aa8a-d28af98e30b6"
      },
      "execution_count": null,
      "outputs": [
        {
          "output_type": "execute_result",
          "data": {
            "text/plain": [
              "2     44925\n",
              "22    44558\n",
              "21    26608\n",
              "1     26608\n",
              "12    20871\n",
              "32    20792\n",
              "23    17280\n",
              "3     17186\n",
              "33    11914\n",
              "13    11773\n",
              "11    10690\n",
              "31    10672\n",
              "20     4234\n",
              "0      4201\n",
              "30     1537\n",
              "10     1528\n",
              "24     1202\n",
              "4      1155\n",
              "14     1084\n",
              "34     1027\n",
              "Name: Security-Factor, dtype: int64"
            ]
          },
          "metadata": {},
          "execution_count": 386
        }
      ]
    },
    {
      "cell_type": "markdown",
      "source": [
        "### Y: Classify based on X7 which policy should be applied on the basis of the score calculated."
      ],
      "metadata": {
        "id": "gWAeDjg9ugYC"
      }
    },
    {
      "cell_type": "code",
      "source": [
        "bins1 = [0, 1, 9, 19, 29, 39]  # Specify the range values for each bin\n",
        "labels1 = ['Policy: L2 Auth', 'Policy: L2 Auth+ Two factor auth', 'Policy: L2 Auth + Web Auth', 'Policy: L2 Auth + Two factor auth + Posturing', 'Policy: L2 Auth + Web Auth + Posturing']"
      ],
      "metadata": {
        "id": "jJGOKQ-JQzZ1"
      },
      "execution_count": null,
      "outputs": []
    },
    {
      "cell_type": "code",
      "source": [
        "thousandeyes_df_sitetag['Policy-Profile'] = pd.cut(thousandeyes_df_sitetag['Security-Factor'], bins=bins1, labels=labels1, right=False, ordered=False)\n",
        "\n",
        "# Print the updated DataFrame\n",
        "print(thousandeyes_df_sitetag['Policy-Profile'].value_counts())"
      ],
      "metadata": {
        "colab": {
          "base_uri": "https://localhost:8080/"
        },
        "id": "iF-4s9GaRwOk",
        "outputId": "d05c9be8-1df1-4a4f-d663-21af61780847"
      },
      "execution_count": null,
      "outputs": [
        {
          "output_type": "stream",
          "name": "stdout",
          "text": [
            "Policy: L2 Auth + Two factor auth + Posturing    93882\n",
            "Policy: L2 Auth+ Two factor auth                 89874\n",
            "Policy: L2 Auth + Web Auth                       45946\n",
            "Policy: L2 Auth + Web Auth + Posturing           45942\n",
            "Policy: L2 Auth                                   4201\n",
            "Name: Policy-Profile, dtype: int64\n"
          ]
        }
      ]
    },
    {
      "cell_type": "code",
      "source": [
        "# Create the bar plot\n",
        "\n",
        "# Create a list of colors for each bar\n",
        "colors = ['red', 'green', 'blue', 'yellow', 'orange']\n",
        "\n",
        "# Calculate the counts of each policy profile\n",
        "policy_counts = thousandeyes_df_sitetag['Policy-Profile'].value_counts()\n",
        "\n",
        "# Create the bar plot\n",
        "plt.barh(policy_counts.index, policy_counts.values, color=colors)\n",
        "\n",
        "\n",
        "# Set labels and title\n",
        "plt.xlabel('Policy Profile')\n",
        "plt.ylabel('Count')\n",
        "plt.title('Policy Profile Distribution')\n",
        "\n",
        "# Remove the x-axis labels\n",
        "plt.xticks([])\n",
        "\n",
        "# Add the count values inside the bars\n",
        "for i, count in enumerate(policy_counts.values):\n",
        "    plt.text(count/2, i, str(count), ha='center', va='center')\n",
        "\n",
        "\n",
        "# Display the plot\n",
        "plt.show()"
      ],
      "metadata": {
        "colab": {
          "base_uri": "https://localhost:8080/",
          "height": 448
        },
        "id": "TkxI226xTnRU",
        "outputId": "56c28e11-feaf-472f-8f4c-ac92da0c66af"
      },
      "execution_count": null,
      "outputs": [
        {
          "output_type": "display_data",
          "data": {
            "text/plain": [
              "<Figure size 640x480 with 1 Axes>"
            ],
            "image/png": "[encoded data removed]"
          },
          "metadata": {}
        }
      ]
    },
    {
      "cell_type": "markdown",
      "source": [
        "### Write this file as Security score calculated file"
      ],
      "metadata": {
        "id": "WpMFWsvGTPqI"
      }
    },
    {
      "cell_type": "code",
      "source": [
        "thousandeyes_df_sitetag.info()"
      ],
      "metadata": {
        "colab": {
          "base_uri": "https://localhost:8080/"
        },
        "id": "Vv8_wTwZTjRo",
        "outputId": "211cf0d5-5f50-4674-9705-003069d5b592"
      },
      "execution_count": null,
      "outputs": [
        {
          "output_type": "stream",
          "name": "stdout",
          "text": [
            "<class 'pandas.core.frame.DataFrame'>\n",
            "Int64Index: 279845 entries, 0 to 279844\n",
            "Data columns (total 26 columns):\n",
            " #   Column                 Non-Null Count   Dtype         \n",
            "---  ------                 --------------   -----         \n",
            " 0   client_mac_x           279845 non-null  object        \n",
            " 1   date                   279845 non-null  object        \n",
            " 2   time                   279845 non-null  datetime64[ns]\n",
            " 3   wlan                   279845 non-null  object        \n",
            " 4   ap_name                279845 non-null  object        \n",
            " 5   site_tag_x             279845 non-null  object        \n",
            " 6   location               279845 non-null  int64         \n",
            " 7   managed                279845 non-null  int64         \n",
            " 8   mab                    279845 non-null  int64         \n",
            " 9   dot1                   279845 non-null  int64         \n",
            " 10  l3webauth              279845 non-null  int64         \n",
            " 11  l2webauth              279845 non-null  int64         \n",
            " 12  username               279845 non-null  object        \n",
            " 13  Privilege-score        279845 non-null  int64         \n",
            " 14  client_mac_y           279845 non-null  object        \n",
            " 15  Device-score           279845 non-null  int64         \n",
            " 16  Managed_score          279845 non-null  int64         \n",
            " 17  hour                   279845 non-null  int64         \n",
            " 18  hour_classification_x  279845 non-null  category      \n",
            " 19  hour_classification_y  279845 non-null  category      \n",
            " 20  Hour-Common            279845 non-null  int64         \n",
            " 21  site_tag_y             279845 non-null  object        \n",
            " 22  Site-Common            279845 non-null  int64         \n",
            " 23  location_score         279845 non-null  int64         \n",
            " 24  Security-Factor        279845 non-null  int64         \n",
            " 25  Policy-Profile         279845 non-null  category      \n",
            "dtypes: category(3), datetime64[ns](1), int64(14), object(8)\n",
            "memory usage: 52.0+ MB\n"
          ]
        }
      ]
    },
    {
      "cell_type": "code",
      "source": [
        "thousandeyes_df_sitetag.to_csv('/content/drive/MyDrive/Colab Notebooks/Thousand_Eyes_Calculated.csv', index=False)"
      ],
      "metadata": {
        "id": "-Wtg4L0ETPDi"
      },
      "execution_count": null,
      "outputs": []
    },
    {
      "cell_type": "markdown",
      "source": [
        "# Clustering of Data"
      ],
      "metadata": {
        "id": "DzDl1PjSs-p6"
      }
    },
    {
      "cell_type": "markdown",
      "source": [
        "## Data scaling and one hot encoding"
      ],
      "metadata": {
        "id": "XqxsygVbiTxN"
      }
    },
    {
      "cell_type": "code",
      "source": [
        "thousandeyes_df_ML = thousandeyes_df_sitetag"
      ],
      "metadata": {
        "id": "0GukyNyziXeV"
      },
      "execution_count": null,
      "outputs": []
    },
    {
      "cell_type": "code",
      "source": [
        "thousandeyes_df_ML.info()"
      ],
      "metadata": {
        "colab": {
          "base_uri": "https://localhost:8080/"
        },
        "id": "e7OwdPrUidcP",
        "outputId": "5967f3ff-4544-40be-c85b-e7ef8c9bb41c"
      },
      "execution_count": null,
      "outputs": [
        {
          "output_type": "stream",
          "name": "stdout",
          "text": [
            "<class 'pandas.core.frame.DataFrame'>\n",
            "Int64Index: 279845 entries, 0 to 279844\n",
            "Data columns (total 26 columns):\n",
            " #   Column                 Non-Null Count   Dtype         \n",
            "---  ------                 --------------   -----         \n",
            " 0   client_mac_x           279845 non-null  object        \n",
            " 1   date                   279845 non-null  object        \n",
            " 2   time                   279845 non-null  datetime64[ns]\n",
            " 3   wlan                   279845 non-null  object        \n",
            " 4   ap_name                279845 non-null  object        \n",
            " 5   site_tag_x             279845 non-null  object        \n",
            " 6   location               279845 non-null  int64         \n",
            " 7   managed                279845 non-null  int64         \n",
            " 8   mab                    279845 non-null  int64         \n",
            " 9   dot1                   279845 non-null  int64         \n",
            " 10  l3webauth              279845 non-null  int64         \n",
            " 11  l2webauth              279845 non-null  int64         \n",
            " 12  username               279845 non-null  object        \n",
            " 13  Privilege-score        279845 non-null  int64         \n",
            " 14  client_mac_y           279845 non-null  object        \n",
            " 15  Device-score           279845 non-null  int64         \n",
            " 16  Managed_score          279845 non-null  int64         \n",
            " 17  hour                   279845 non-null  int64         \n",
            " 18  hour_classification_x  279845 non-null  category      \n",
            " 19  hour_classification_y  279845 non-null  category      \n",
            " 20  Hour-Common            279845 non-null  int64         \n",
            " 21  site_tag_y             279845 non-null  object        \n",
            " 22  Site-Common            279845 non-null  int64         \n",
            " 23  location_score         279845 non-null  int64         \n",
            " 24  Security-Factor        279845 non-null  int64         \n",
            " 25  Policy-Profile         279845 non-null  category      \n",
            "dtypes: category(3), datetime64[ns](1), int64(14), object(8)\n",
            "memory usage: 52.0+ MB\n"
          ]
        }
      ]
    },
    {
      "cell_type": "markdown",
      "source": [
        "### Features to keep for ML\n",
        "- ['Privilege-score', 'Device-score', 'Managed_score', 'Hour-Common', 'Site-Common', 'location_score', 'Security-Factor', 'Policy-Profile']"
      ],
      "metadata": {
        "id": "PzgcJOnqnQAA"
      }
    },
    {
      "cell_type": "code",
      "source": [
        "len(thousandeyes_df_ML['ap_name'].unique())"
      ],
      "metadata": {
        "colab": {
          "base_uri": "https://localhost:8080/"
        },
        "id": "RgDOPB3CpNXo",
        "outputId": "32c596bb-779e-4f43-c057-fe35fc6e66ef"
      },
      "execution_count": null,
      "outputs": [
        {
          "output_type": "execute_result",
          "data": {
            "text/plain": [
              "1185"
            ]
          },
          "metadata": {},
          "execution_count": 394
        }
      ]
    },
    {
      "cell_type": "code",
      "source": [
        "print(thousandeyes_df_ML['ap_name'].unique())\n",
        "print(thousandeyes_df_ML['Privilege-score'].unique())\n",
        "print(thousandeyes_df_ML['Device-score'].unique())\n",
        "print(thousandeyes_df_ML['Managed_score'].unique())\n",
        "print(thousandeyes_df_ML['Hour-Common'].unique())\n",
        "print(thousandeyes_df_ML['Site-Common'].unique())\n",
        "print(thousandeyes_df_ML['location_score'].unique())\n",
        "print(thousandeyes_df_ML['Security-Factor'].unique())\n",
        "print(thousandeyes_df_ML['Policy-Profile'].unique())\n"
      ],
      "metadata": {
        "colab": {
          "base_uri": "https://localhost:8080/"
        },
        "id": "4ZkG8rNFmDq8",
        "outputId": "54466f32-f306-4fe9-9f52-8bda5734508c"
      },
      "execution_count": null,
      "outputs": [
        {
          "output_type": "stream",
          "name": "stdout",
          "text": [
            "['USXNASPE-AP03' 'USMIASPT-2-AP12' 'USXNASPE-AP02' ... 'USLAXS28-1-AP06'\n",
            " 'USLAXS28-1-AP04' 'COBOGTEL-AP05']\n",
            "[ 0 10]\n",
            "[0 1]\n",
            "[ 0 20]\n",
            "[0 1]\n",
            "[0 1]\n",
            "[0 1]\n",
            "[ 0  1 21 22  2 20 11 23 10 31 12 32 30  3 33 13 14 24 34  4]\n",
            "['Policy: L2 Auth', 'Policy: L2 Auth+ Two factor auth', 'Policy: L2 Auth + Two factor auth + Posturing', 'Policy: L2 Auth + Web Auth', 'Policy: L2 Auth + Web Auth + Posturing']\n",
            "Categories (5, object): ['Policy: L2 Auth', 'Policy: L2 Auth+ Two factor auth',\n",
            "                         'Policy: L2 Auth + Web Auth', 'Policy: L2 Auth + Two factor auth + Posturing',\n",
            "                         'Policy: L2 Auth + Web Auth + Posturing']\n"
          ]
        }
      ]
    },
    {
      "cell_type": "markdown",
      "source": [
        "### Change Managed score and scale Security-Factor"
      ],
      "metadata": {
        "id": "MO82q5LtksUC"
      }
    },
    {
      "cell_type": "code",
      "source": [
        "#thousandeyes_df_ML['Managed_score'] = thousandeyes_df_ML['Managed_score'].replace(20, 1)"
      ],
      "metadata": {
        "id": "0xPlNMPsoPnd"
      },
      "execution_count": null,
      "outputs": []
    },
    {
      "cell_type": "code",
      "source": [
        "#print(thousandeyes_df_ML['Managed_score'].unique())"
      ],
      "metadata": {
        "id": "puOhoOpNohI7"
      },
      "execution_count": null,
      "outputs": []
    },
    {
      "cell_type": "code",
      "source": [
        "# Create an instance of MinMaxScaler\n",
        "scaler = MinMaxScaler(feature_range=(0, 1))\n",
        "\n",
        "# Reshape the data to a 2D array as expected by MinMaxScaler\n",
        "data_reshaped = thousandeyes_df_ML['Security-Factor'].values.reshape(-1, 1)\n",
        "#data_reshaped1 = thousandeyes_df_ML['Managed_score'].values.reshape(-1, 1)\n",
        "\n",
        "# Scale the data\n",
        "scaled_data = scaler.fit_transform(data_reshaped)\n",
        "#scaled_data1 = scaler.fit_transform(data_reshaped1)\n",
        "\n",
        "# Assign the scaled values back to the 'Security-Factor' column\n",
        "thousandeyes_df_ML['Security-Factor'] = scaled_data\n",
        "#thousandeyes_df_ML['Managed_score'] = scaled_data1\n",
        "\n",
        "# Print the updated DataFrame\n",
        "print(thousandeyes_df_ML['Security-Factor'].value_counts())\n",
        "#print(thousandeyes_df_ML['Managed_score'].value_counts())"
      ],
      "metadata": {
        "colab": {
          "base_uri": "https://localhost:8080/"
        },
        "id": "Sq4tl4Xctmqg",
        "outputId": "bb646d15-4598-4b22-a229-d0a2a979a7f9"
      },
      "execution_count": null,
      "outputs": [
        {
          "output_type": "stream",
          "name": "stdout",
          "text": [
            "0.058824    44925\n",
            "0.647059    44558\n",
            "0.617647    26608\n",
            "0.029412    26608\n",
            "0.352941    20871\n",
            "0.941176    20792\n",
            "0.676471    17280\n",
            "0.088235    17186\n",
            "0.970588    11914\n",
            "0.382353    11773\n",
            "0.323529    10690\n",
            "0.911765    10672\n",
            "0.588235     4234\n",
            "0.000000     4201\n",
            "0.882353     1537\n",
            "0.294118     1528\n",
            "0.705882     1202\n",
            "0.117647     1155\n",
            "0.411765     1084\n",
            "1.000000     1027\n",
            "Name: Security-Factor, dtype: int64\n"
          ]
        }
      ]
    },
    {
      "cell_type": "code",
      "source": [
        "thousandeyes_model_df = thousandeyes_df_ML[['Privilege-score', 'Device-score', 'Managed_score', 'Hour-Common', 'Site-Common', 'location_score', 'Security-Factor', 'Policy-Profile']].copy()"
      ],
      "metadata": {
        "id": "mkUrd0inwET1"
      },
      "execution_count": null,
      "outputs": []
    },
    {
      "cell_type": "code",
      "source": [
        "thousandeyes_model_df.info()"
      ],
      "metadata": {
        "colab": {
          "base_uri": "https://localhost:8080/"
        },
        "id": "O1Daet5jwmlj",
        "outputId": "f0ae12ac-2ffc-4ceb-f455-4ccd7044c2de"
      },
      "execution_count": null,
      "outputs": [
        {
          "output_type": "stream",
          "name": "stdout",
          "text": [
            "<class 'pandas.core.frame.DataFrame'>\n",
            "Int64Index: 279845 entries, 0 to 279844\n",
            "Data columns (total 8 columns):\n",
            " #   Column           Non-Null Count   Dtype   \n",
            "---  ------           --------------   -----   \n",
            " 0   Privilege-score  279845 non-null  int64   \n",
            " 1   Device-score     279845 non-null  int64   \n",
            " 2   Managed_score    279845 non-null  int64   \n",
            " 3   Hour-Common      279845 non-null  int64   \n",
            " 4   Site-Common      279845 non-null  int64   \n",
            " 5   location_score   279845 non-null  int64   \n",
            " 6   Security-Factor  279845 non-null  float64 \n",
            " 7   Policy-Profile   279845 non-null  category\n",
            "dtypes: category(1), float64(1), int64(6)\n",
            "memory usage: 17.3 MB\n"
          ]
        }
      ]
    },
    {
      "cell_type": "code",
      "source": [
        "thousandeyes_model_df.shape"
      ],
      "metadata": {
        "colab": {
          "base_uri": "https://localhost:8080/"
        },
        "id": "dD3tFph8Hf-9",
        "outputId": "e2601e53-650a-440a-e70d-67eda973bca3"
      },
      "execution_count": null,
      "outputs": [
        {
          "output_type": "execute_result",
          "data": {
            "text/plain": [
              "(279845, 8)"
            ]
          },
          "metadata": {},
          "execution_count": 401
        }
      ]
    },
    {
      "cell_type": "markdown",
      "source": [
        "# Machine Learning Algorithms"
      ],
      "metadata": {
        "id": "BMoGKBwvylDN"
      }
    },
    {
      "cell_type": "markdown",
      "source": [
        "## Decision Tree with \"gini\""
      ],
      "metadata": {
        "id": "CkKZPWvatEjB"
      }
    },
    {
      "cell_type": "code",
      "source": [
        "X = thousandeyes_model_df.drop('Policy-Profile', axis=1)\n",
        "Y = thousandeyes_model_df['Policy-Profile']\n",
        "\n",
        "X_train, X_test, Y_train, Y_test = train_test_split(X, Y, test_size=0.2, random_state=42)"
      ],
      "metadata": {
        "id": "H2N1g5gzqYkC"
      },
      "execution_count": null,
      "outputs": []
    },
    {
      "cell_type": "code",
      "source": [
        "clf = DecisionTreeClassifier(criterion='gini')\n",
        "clf.fit(X_train, Y_train)"
      ],
      "metadata": {
        "colab": {
          "base_uri": "https://localhost:8080/",
          "height": 75
        },
        "id": "7JmnTxhCxnn5",
        "outputId": "8befcc40-7507-49ee-a0e3-4ec6c774a401"
      },
      "execution_count": null,
      "outputs": [
        {
          "output_type": "execute_result",
          "data": {
            "text/plain": [
              "DecisionTreeClassifier()"
            ],
            "text/html": [
              "<style>#sk-container-id-4 {color: black;background-color: white;}#sk-container-id-4 pre{padding: 0;}#sk-container-id-4 div.sk-toggleable {background-color: white;}#sk-container-id-4 label.sk-toggleable__label {cursor: pointer;display: block;width: 100%;margin-bottom: 0;padding: 0.3em;box-sizing: border-box;text-align: center;}#sk-container-id-4 label.sk-toggleable__label-arrow:before {content: \"▸\";float: left;margin-right: 0.25em;color: #696969;}#sk-container-id-4 label.sk-toggleable__label-arrow:hover:before {color: black;}#sk-container-id-4 div.sk-estimator:hover label.sk-toggleable__label-arrow:before {color: black;}#sk-container-id-4 div.sk-toggleable__content {max-height: 0;max-width: 0;overflow: hidden;text-align: left;background-color: #f0f8ff;}#sk-container-id-4 div.sk-toggleable__content pre {margin: 0.2em;color: black;border-radius: 0.25em;background-color: #f0f8ff;}#sk-container-id-4 input.sk-toggleable__control:checked~div.sk-toggleable__content {max-height: 200px;max-width: 100%;overflow: auto;}#sk-container-id-4 input.sk-toggleable__control:checked~label.sk-toggleable__label-arrow:before {content: \"▾\";}#sk-container-id-4 div.sk-estimator input.sk-toggleable__control:checked~label.sk-toggleable__label {background-color: #d4ebff;}#sk-container-id-4 div.sk-label input.sk-toggleable__control:checked~label.sk-toggleable__label {background-color: #d4ebff;}#sk-container-id-4 input.sk-hidden--visually {border: 0;clip: rect(1px 1px 1px 1px);clip: rect(1px, 1px, 1px, 1px);height: 1px;margin: -1px;overflow: hidden;padding: 0;position: absolute;width: 1px;}#sk-container-id-4 div.sk-estimator {font-family: monospace;background-color: #f0f8ff;border: 1px dotted black;border-radius: 0.25em;box-sizing: border-box;margin-bottom: 0.5em;}#sk-container-id-4 div.sk-estimator:hover {background-color: #d4ebff;}#sk-container-id-4 div.sk-parallel-item::after {content: \"\";width: 100%;border-bottom: 1px solid gray;flex-grow: 1;}#sk-container-id-4 div.sk-label:hover label.sk-toggleable__label {background-color: #d4ebff;}#sk-container-id-4 div.sk-serial::before {content: \"\";position: absolute;border-left: 1px solid gray;box-sizing: border-box;top: 0;bottom: 0;left: 50%;z-index: 0;}#sk-container-id-4 div.sk-serial {display: flex;flex-direction: column;align-items: center;background-color: white;padding-right: 0.2em;padding-left: 0.2em;position: relative;}#sk-container-id-4 div.sk-item {position: relative;z-index: 1;}#sk-container-id-4 div.sk-parallel {display: flex;align-items: stretch;justify-content: center;background-color: white;position: relative;}#sk-container-id-4 div.sk-item::before, #sk-container-id-4 div.sk-parallel-item::before {content: \"\";position: absolute;border-left: 1px solid gray;box-sizing: border-box;top: 0;bottom: 0;left: 50%;z-index: -1;}#sk-container-id-4 div.sk-parallel-item {display: flex;flex-direction: column;z-index: 1;position: relative;background-color: white;}#sk-container-id-4 div.sk-parallel-item:first-child::after {align-self: flex-end;width: 50%;}#sk-container-id-4 div.sk-parallel-item:last-child::after {align-self: flex-start;width: 50%;}#sk-container-id-4 div.sk-parallel-item:only-child::after {width: 0;}#sk-container-id-4 div.sk-dashed-wrapped {border: 1px dashed gray;margin: 0 0.4em 0.5em 0.4em;box-sizing: border-box;padding-bottom: 0.4em;background-color: white;}#sk-container-id-4 div.sk-label label {font-family: monospace;font-weight: bold;display: inline-block;line-height: 1.2em;}#sk-container-id-4 div.sk-label-container {text-align: center;}#sk-container-id-4 div.sk-container {/* jupyter's `normalize.less` sets `[hidden] { display: none; }` but bootstrap.min.css set `[hidden] { display: none !important; }` so we also need the `!important` here to be able to override the default hidden behavior on the sphinx rendered scikit-learn.org. See: https://github.com/scikit-learn/scikit-learn/issues/21755 */display: inline-block !important;position: relative;}#sk-container-id-4 div.sk-text-repr-fallback {display: none;}</style><div id=\"sk-container-id-4\" class=\"sk-top-container\"><div class=\"sk-text-repr-fallback\"><pre>DecisionTreeClassifier()</pre><b>In a Jupyter environment, please rerun this cell to show the HTML representation or trust the notebook. <br />On GitHub, the HTML representation is unable to render, please try loading this page with nbviewer.org.</b></div><div class=\"sk-container\" hidden><div class=\"sk-item\"><div class=\"sk-estimator sk-toggleable\"><input class=\"sk-toggleable__control sk-hidden--visually\" id=\"sk-estimator-id-4\" type=\"checkbox\" checked><label for=\"sk-estimator-id-4\" class=\"sk-toggleable__label sk-toggleable__label-arrow\">DecisionTreeClassifier</label><div class=\"sk-toggleable__content\"><pre>DecisionTreeClassifier()</pre></div></div></div></div></div>"
            ]
          },
          "metadata": {},
          "execution_count": 403
        }
      ]
    },
    {
      "cell_type": "code",
      "source": [
        "Y_pred = clf.predict(X_test)"
      ],
      "metadata": {
        "id": "r2nYbPLZxvhk"
      },
      "execution_count": null,
      "outputs": []
    },
    {
      "cell_type": "code",
      "source": [
        "X_test.shape"
      ],
      "metadata": {
        "colab": {
          "base_uri": "https://localhost:8080/"
        },
        "id": "9QY2Mvf-EQhr",
        "outputId": "b4d689af-e9f6-47ff-ebfd-046a38199573"
      },
      "execution_count": null,
      "outputs": [
        {
          "output_type": "execute_result",
          "data": {
            "text/plain": [
              "(55969, 7)"
            ]
          },
          "metadata": {},
          "execution_count": 405
        }
      ]
    },
    {
      "cell_type": "code",
      "source": [
        "Sample_1 = X_test.iloc[9, :]"
      ],
      "metadata": {
        "id": "6FqIuHzyNiaO"
      },
      "execution_count": null,
      "outputs": []
    },
    {
      "cell_type": "code",
      "source": [
        "specific_indices = [3, 14]  # Indices of the specific samples in X_test\n",
        "\n",
        "specific_inputs = X_test.iloc[specific_indices, :]  # Select the specific samples from X_test\n",
        "\n",
        "predicted_outputs = clf.predict(specific_inputs)\n",
        "print(predicted_outputs)"
      ],
      "metadata": {
        "colab": {
          "base_uri": "https://localhost:8080/"
        },
        "id": "J8OfnbU-DPTG",
        "outputId": "e081a961-13aa-473e-d51d-38b4074f5d35"
      },
      "execution_count": null,
      "outputs": [
        {
          "output_type": "stream",
          "name": "stdout",
          "text": [
            "['Policy: L2 Auth + Two factor auth + Posturing'\n",
            " 'Policy: L2 Auth + Web Auth + Posturing']\n"
          ]
        }
      ]
    },
    {
      "cell_type": "code",
      "source": [
        "print(specific_inputs)"
      ],
      "metadata": {
        "colab": {
          "base_uri": "https://localhost:8080/"
        },
        "id": "-NZHZObXPLoL",
        "outputId": "33f533be-12c9-4de1-e2ab-53ec922dd477"
      },
      "execution_count": null,
      "outputs": [
        {
          "output_type": "stream",
          "name": "stdout",
          "text": [
            "        Privilege-score  Device-score  Managed_score  Hour-Common  \\\n",
            "271008                0             0             20            0   \n",
            "36962                10             0             20            1   \n",
            "\n",
            "        Site-Common  location_score  Security-Factor  \n",
            "271008            1               1         0.647059  \n",
            "36962             1               1         0.970588  \n"
          ]
        }
      ]
    },
    {
      "cell_type": "code",
      "source": [
        "from sklearn.metrics import accuracy_score, classification_report\n",
        "\n",
        "accuracy = accuracy_score(Y_test, Y_pred)\n",
        "report = classification_report(Y_test, Y_pred)\n",
        "\n",
        "print(\"Accuracy:\", accuracy)\n",
        "print(\"Classification Report:\\n\", report)\n"
      ],
      "metadata": {
        "colab": {
          "base_uri": "https://localhost:8080/"
        },
        "id": "7f4CJN1ixwlv",
        "outputId": "3d3a813d-6954-4850-869d-1afe1f5f6fe9"
      },
      "execution_count": null,
      "outputs": [
        {
          "output_type": "stream",
          "name": "stdout",
          "text": [
            "Accuracy: 1.0\n",
            "Classification Report:\n",
            "                                                precision    recall  f1-score   support\n",
            "\n",
            "                              Policy: L2 Auth       1.00      1.00      1.00       862\n",
            "Policy: L2 Auth + Two factor auth + Posturing       1.00      1.00      1.00     18838\n",
            "                   Policy: L2 Auth + Web Auth       1.00      1.00      1.00      9119\n",
            "       Policy: L2 Auth + Web Auth + Posturing       1.00      1.00      1.00      9140\n",
            "             Policy: L2 Auth+ Two factor auth       1.00      1.00      1.00     18010\n",
            "\n",
            "                                     accuracy                           1.00     55969\n",
            "                                    macro avg       1.00      1.00      1.00     55969\n",
            "                                 weighted avg       1.00      1.00      1.00     55969\n",
            "\n"
          ]
        }
      ]
    },
    {
      "cell_type": "code",
      "source": [
        "from sklearn import tree\n",
        "# Plot the decision tree\n",
        "plt.figure(figsize=(14, 8))\n",
        "tree.plot_tree(clf, feature_names=X_train.columns, class_names=clf.classes_, filled=True, fontsize=8, proportion=True)\n",
        "\n",
        "plt.tight_layout()  # Add padding between subplots for better spacing\n",
        "\n",
        "plt.show()"
      ],
      "metadata": {
        "colab": {
          "base_uri": "https://localhost:8080/",
          "height": 724
        },
        "id": "e67a-2zCcVCC",
        "outputId": "7c48bb14-5a8f-4443-d3f2-956424348772"
      },
      "execution_count": null,
      "outputs": [
        {
          "output_type": "display_data",
          "data": {
            "text/plain": [
              "<Figure size 1400x800 with 1 Axes>"
            ],
            "image/png": "[encoded data removed]"
          },
          "metadata": {}
        }
      ]
    },
    {
      "cell_type": "markdown",
      "source": [
        "## Predicting the Policy Profile based on user given input"
      ],
      "metadata": {
        "id": "j-ZvxaWNa2H3"
      }
    },
    {
      "cell_type": "markdown",
      "source": [
        "### 3 samples collected for same username based on user context (who, when, where, what)"
      ],
      "metadata": {
        "id": "60P1ZPQCa80N"
      }
    },
    {
      "cell_type": "code",
      "source": [
        "thousandeyes_test_data = pd.read_csv( \"/content/drive/MyDrive/Colab Notebooks/Test-Username.csv\" )"
      ],
      "metadata": {
        "id": "PKQUqFbHan8c"
      },
      "execution_count": null,
      "outputs": []
    },
    {
      "cell_type": "code",
      "source": [
        "thousandeyes_test_data.rename(columns={\"Policy-Profile\": \"Expected-Policy-Profile\"}, inplace=True)"
      ],
      "metadata": {
        "id": "lM4CKHIUinkD"
      },
      "execution_count": null,
      "outputs": []
    },
    {
      "cell_type": "code",
      "source": [
        "thousandeyes_test_data[\"ML_Predicted_Policy_Profile\"] = None"
      ],
      "metadata": {
        "id": "nGhgjHC_gMF4"
      },
      "execution_count": null,
      "outputs": []
    },
    {
      "cell_type": "code",
      "source": [
        "thousandeyes_test_data"
      ],
      "metadata": {
        "colab": {
          "base_uri": "https://localhost:8080/",
          "height": 346
        },
        "id": "cXK6odnfbOmn",
        "outputId": "5c97f8f5-a266-41ff-9157-9a2a1f9e62ca"
      },
      "execution_count": null,
      "outputs": [
        {
          "output_type": "execute_result",
          "data": {
            "text/plain": [
              "     client_mac_x                         username  Privilege-score  \\\n",
              "0  04f0.2185.62d8  (svc_7signal_cert@spe.sony.com)                0   \n",
              "1  04f0.2185.62d8  (svc_7signal_cert@spe.sony.com)                0   \n",
              "2  04f0.2185.62d8  (svc_7signal_cert@spe.sony.com)                0   \n",
              "\n",
              "   Device-score  Managed_score  Hour-Common  Site-Common  location_score  \\\n",
              "0             0              0            0            0               0   \n",
              "1             0             20            0            0               0   \n",
              "2             0              0            0            0               1   \n",
              "\n",
              "   Security-Factor                        Expected-Policy-Profile  \\\n",
              "0         0.000000                                Policy: L2 Auth   \n",
              "1         0.588235  Policy: L2 Auth + Two factor auth + Posturing   \n",
              "2         0.029412               Policy: L2 Auth+ Two factor auth   \n",
              "\n",
              "  ML_Predicted_Policy_Profile  \n",
              "0                        None  \n",
              "1                        None  \n",
              "2                        None  "
            ],
            "text/html": [
              "\n",
              "  <div id=\"df-8d65c4e2-7fc1-4b00-a922-8a927add1bc9\">\n",
              "    <div class=\"colab-df-container\">\n",
              "      <div>\n",
              "<style scoped>\n",
              "    .dataframe tbody tr th:only-of-type {\n",
              "        vertical-align: middle;\n",
              "    }\n",
              "\n",
              "    .dataframe tbody tr th {\n",
              "        vertical-align: top;\n",
              "    }\n",
              "\n",
              "    .dataframe thead th {\n",
              "        text-align: right;\n",
              "    }\n",
              "</style>\n",
              "<table border=\"1\" class=\"dataframe\">\n",
              "  <thead>\n",
              "    <tr style=\"text-align: right;\">\n",
              "      <th></th>\n",
              "      <th>client_mac_x</th>\n",
              "      <th>username</th>\n",
              "      <th>Privilege-score</th>\n",
              "      <th>Device-score</th>\n",
              "      <th>Managed_score</th>\n",
              "      <th>Hour-Common</th>\n",
              "      <th>Site-Common</th>\n",
              "      <th>location_score</th>\n",
              "      <th>Security-Factor</th>\n",
              "      <th>Expected-Policy-Profile</th>\n",
              "      <th>ML_Predicted_Policy_Profile</th>\n",
              "    </tr>\n",
              "  </thead>\n",
              "  <tbody>\n",
              "    <tr>\n",
              "      <th>0</th>\n",
              "      <td>04f0.2185.62d8</td>\n",
              "      <td>(svc_7signal_cert@spe.sony.com)</td>\n",
              "      <td>0</td>\n",
              "      <td>0</td>\n",
              "      <td>0</td>\n",
              "      <td>0</td>\n",
              "      <td>0</td>\n",
              "      <td>0</td>\n",
              "      <td>0.000000</td>\n",
              "      <td>Policy: L2 Auth</td>\n",
              "      <td>None</td>\n",
              "    </tr>\n",
              "    <tr>\n",
              "      <th>1</th>\n",
              "      <td>04f0.2185.62d8</td>\n",
              "      <td>(svc_7signal_cert@spe.sony.com)</td>\n",
              "      <td>0</td>\n",
              "      <td>0</td>\n",
              "      <td>20</td>\n",
              "      <td>0</td>\n",
              "      <td>0</td>\n",
              "      <td>0</td>\n",
              "      <td>0.588235</td>\n",
              "      <td>Policy: L2 Auth + Two factor auth + Posturing</td>\n",
              "      <td>None</td>\n",
              "    </tr>\n",
              "    <tr>\n",
              "      <th>2</th>\n",
              "      <td>04f0.2185.62d8</td>\n",
              "      <td>(svc_7signal_cert@spe.sony.com)</td>\n",
              "      <td>0</td>\n",
              "      <td>0</td>\n",
              "      <td>0</td>\n",
              "      <td>0</td>\n",
              "      <td>0</td>\n",
              "      <td>1</td>\n",
              "      <td>0.029412</td>\n",
              "      <td>Policy: L2 Auth+ Two factor auth</td>\n",
              "      <td>None</td>\n",
              "    </tr>\n",
              "  </tbody>\n",
              "</table>\n",
              "</div>\n",
              "      <button class=\"colab-df-convert\" onclick=\"convertToInteractive('df-8d65c4e2-7fc1-4b00-a922-8a927add1bc9')\"\n",
              "              title=\"Convert this dataframe to an interactive table.\"\n",
              "              style=\"display:none;\">\n",
              "        \n",
              "  <svg xmlns=\"http://www.w3.org/2000/svg\" height=\"24px\"viewBox=\"0 0 24 24\"\n",
              "       width=\"24px\">\n",
              "    <path d=\"M0 0h24v24H0V0z\" fill=\"none\"/>\n",
              "    <path d=\"M18.56 5.44l.94 2.06.94-2.06 2.06-.94-2.06-.94-.94-2.06-.94 2.06-2.06.94zm-11 1L8.5 8.5l.94-2.06 2.06-.94-2.06-.94L8.5 2.5l-.94 2.06-2.06.94zm10 10l.94 2.06.94-2.06 2.06-.94-2.06-.94-.94-2.06-.94 2.06-2.06.94z\"/><path d=\"M17.41 7.96l-1.37-1.37c-.4-.4-.92-.59-1.43-.59-.52 0-1.04.2-1.43.59L10.3 9.45l-7.72 7.72c-.78.78-.78 2.05 0 2.83L4 21.41c.39.39.9.59 1.41.59.51 0 1.02-.2 1.41-.59l7.78-7.78 2.81-2.81c.8-.78.8-2.07 0-2.86zM5.41 20L4 18.59l7.72-7.72 1.47 1.35L5.41 20z\"/>\n",
              "  </svg>\n",
              "      </button>\n",
              "      \n",
              "  <style>\n",
              "    .colab-df-container {\n",
              "      display:flex;\n",
              "      flex-wrap:wrap;\n",
              "      gap: 12px;\n",
              "    }\n",
              "\n",
              "    .colab-df-convert {\n",
              "      background-color: #E8F0FE;\n",
              "      border: none;\n",
              "      border-radius: 50%;\n",
              "      cursor: pointer;\n",
              "      display: none;\n",
              "      fill: #1967D2;\n",
              "      height: 32px;\n",
              "      padding: 0 0 0 0;\n",
              "      width: 32px;\n",
              "    }\n",
              "\n",
              "    .colab-df-convert:hover {\n",
              "      background-color: #E2EBFA;\n",
              "      box-shadow: 0px 1px 2px rgba(60, 64, 67, 0.3), 0px 1px 3px 1px rgba(60, 64, 67, 0.15);\n",
              "      fill: #174EA6;\n",
              "    }\n",
              "\n",
              "    [theme=dark] .colab-df-convert {\n",
              "      background-color: #3B4455;\n",
              "      fill: #D2E3FC;\n",
              "    }\n",
              "\n",
              "    [theme=dark] .colab-df-convert:hover {\n",
              "      background-color: #434B5C;\n",
              "      box-shadow: 0px 1px 3px 1px rgba(0, 0, 0, 0.15);\n",
              "      filter: drop-shadow(0px 1px 2px rgba(0, 0, 0, 0.3));\n",
              "      fill: #FFFFFF;\n",
              "    }\n",
              "  </style>\n",
              "\n",
              "      <script>\n",
              "        const buttonEl =\n",
              "          document.querySelector('#df-8d65c4e2-7fc1-4b00-a922-8a927add1bc9 button.colab-df-convert');\n",
              "        buttonEl.style.display =\n",
              "          google.colab.kernel.accessAllowed ? 'block' : 'none';\n",
              "\n",
              "        async function convertToInteractive(key) {\n",
              "          const element = document.querySelector('#df-8d65c4e2-7fc1-4b00-a922-8a927add1bc9');\n",
              "          const dataTable =\n",
              "            await google.colab.kernel.invokeFunction('convertToInteractive',\n",
              "                                                     [key], {});\n",
              "          if (!dataTable) return;\n",
              "\n",
              "          const docLinkHtml = 'Like what you see? Visit the ' +\n",
              "            '<a target=\"_blank\" href=https://colab.research.google.com/notebooks/data_table.ipynb>data table notebook</a>'\n",
              "            + ' to learn more about interactive tables.';\n",
              "          element.innerHTML = '';\n",
              "          dataTable['output_type'] = 'display_data';\n",
              "          await google.colab.output.renderOutput(dataTable, element);\n",
              "          const docLink = document.createElement('div');\n",
              "          docLink.innerHTML = docLinkHtml;\n",
              "          element.appendChild(docLink);\n",
              "        }\n",
              "      </script>\n",
              "    </div>\n",
              "  </div>\n",
              "  "
            ]
          },
          "metadata": {},
          "execution_count": 414
        }
      ]
    },
    {
      "cell_type": "code",
      "source": [
        "thousandeyes_test_input = thousandeyes_test_data[['Privilege-score','Device-score', 'Managed_score', 'Hour-Common', 'Site-Common', 'location_score', 'Security-Factor']].copy()"
      ],
      "metadata": {
        "id": "DgCjlt6XbUl_"
      },
      "execution_count": null,
      "outputs": []
    },
    {
      "cell_type": "code",
      "source": [
        "Thousand_Eyes_outputs = clf.predict(thousandeyes_test_input)"
      ],
      "metadata": {
        "id": "SCzfxw1gb1l0"
      },
      "execution_count": null,
      "outputs": []
    },
    {
      "cell_type": "code",
      "source": [
        "print(\"Username:\", thousandeyes_test_data.username[0], \"joined with usual device, not a guest user, org managed device,\")\n",
        "print(\"usual time, usual place in office and location is office.\\n\")\n",
        "print(\"Username:\", thousandeyes_test_data.username[0], \"ML engine predicted and assigned Policy Profile->\", Thousand_Eyes_outputs[0])"
      ],
      "metadata": {
        "colab": {
          "base_uri": "https://localhost:8080/"
        },
        "id": "gkn0g-7_c2Nz",
        "outputId": "7e293f7b-45ff-46a4-ffe0-16ac9b75fdf1"
      },
      "execution_count": null,
      "outputs": [
        {
          "output_type": "stream",
          "name": "stdout",
          "text": [
            "Username: (svc_7signal_cert@spe.sony.com) joined with usual device, not a guest user, org managed device,\n",
            "usual time, usual place in office and location is office.\n",
            "\n",
            "Username: (svc_7signal_cert@spe.sony.com) ML engine predicted and assigned Policy Profile-> Policy: L2 Auth\n"
          ]
        }
      ]
    },
    {
      "cell_type": "code",
      "source": [
        "print(\"Username:\", thousandeyes_test_data.username[1], \"joined with usual device, not a guest user, org un-managed device (mobile),\")\n",
        "print(\"usual time, usual place in office and location is office.\\n\")\n",
        "print(\"Username:\", thousandeyes_test_data.username[1], \"ML engine predicted and assigned Policy Profile->\", Thousand_Eyes_outputs[1])"
      ],
      "metadata": {
        "colab": {
          "base_uri": "https://localhost:8080/"
        },
        "id": "G-HGE6Oac4gs",
        "outputId": "5a5cd57d-740b-48e6-a36a-25690e12a380"
      },
      "execution_count": null,
      "outputs": [
        {
          "output_type": "stream",
          "name": "stdout",
          "text": [
            "Username: (svc_7signal_cert@spe.sony.com) joined with usual device, not a guest user, org un-managed device (mobile),\n",
            "usual time, usual place in office and location is office.\n",
            "\n",
            "Username: (svc_7signal_cert@spe.sony.com) ML engine predicted and assigned Policy Profile-> Policy: L2 Auth + Two factor auth + Posturing\n"
          ]
        }
      ]
    },
    {
      "cell_type": "code",
      "source": [
        "print(\"Username:\", thousandeyes_test_data.username[2], \"joined with usual device, not a guest user, org managed device,\")\n",
        "print(\"usual time, OEAP and location is home.\\n\")\n",
        "print(\"Username:\", thousandeyes_test_data.username[2], \"ML engine predicted and assigned Policy Profile->\", Thousand_Eyes_outputs[2])"
      ],
      "metadata": {
        "colab": {
          "base_uri": "https://localhost:8080/"
        },
        "id": "81iGw98qc4pH",
        "outputId": "a8f7047a-6d5f-42f4-ab18-ed8aaee52f3a"
      },
      "execution_count": null,
      "outputs": [
        {
          "output_type": "stream",
          "name": "stdout",
          "text": [
            "Username: (svc_7signal_cert@spe.sony.com) joined with usual device, not a guest user, org managed device,\n",
            "usual time, OEAP and location is home.\n",
            "\n",
            "Username: (svc_7signal_cert@spe.sony.com) ML engine predicted and assigned Policy Profile-> Policy: L2 Auth+ Two factor auth\n"
          ]
        }
      ]
    },
    {
      "cell_type": "code",
      "source": [
        "thousandeyes_test_data[\"ML_Predicted_Policy_Profile\"] = clf.predict(thousandeyes_test_input)"
      ],
      "metadata": {
        "id": "LXFrWUr-hs7M"
      },
      "execution_count": null,
      "outputs": []
    },
    {
      "cell_type": "code",
      "source": [
        "thousandeyes_test_data"
      ],
      "metadata": {
        "colab": {
          "base_uri": "https://localhost:8080/",
          "height": 346
        },
        "id": "NVnI2Nl4ggw4",
        "outputId": "972538f9-05bd-4189-da77-c4214ea63e5f"
      },
      "execution_count": null,
      "outputs": [
        {
          "output_type": "execute_result",
          "data": {
            "text/plain": [
              "     client_mac_x                         username  Privilege-score  \\\n",
              "0  04f0.2185.62d8  (svc_7signal_cert@spe.sony.com)                0   \n",
              "1  04f0.2185.62d8  (svc_7signal_cert@spe.sony.com)                0   \n",
              "2  04f0.2185.62d8  (svc_7signal_cert@spe.sony.com)                0   \n",
              "\n",
              "   Device-score  Managed_score  Hour-Common  Site-Common  location_score  \\\n",
              "0             0              0            0            0               0   \n",
              "1             0             20            0            0               0   \n",
              "2             0              0            0            0               1   \n",
              "\n",
              "   Security-Factor                        Expected-Policy-Profile  \\\n",
              "0         0.000000                                Policy: L2 Auth   \n",
              "1         0.588235  Policy: L2 Auth + Two factor auth + Posturing   \n",
              "2         0.029412               Policy: L2 Auth+ Two factor auth   \n",
              "\n",
              "                     ML_Predicted_Policy_Profile  \n",
              "0                                Policy: L2 Auth  \n",
              "1  Policy: L2 Auth + Two factor auth + Posturing  \n",
              "2               Policy: L2 Auth+ Two factor auth  "
            ],
            "text/html": [
              "\n",
              "  <div id=\"df-f9bf395b-585f-4cba-90ed-6b10485b2d25\">\n",
              "    <div class=\"colab-df-container\">\n",
              "      <div>\n",
              "<style scoped>\n",
              "    .dataframe tbody tr th:only-of-type {\n",
              "        vertical-align: middle;\n",
              "    }\n",
              "\n",
              "    .dataframe tbody tr th {\n",
              "        vertical-align: top;\n",
              "    }\n",
              "\n",
              "    .dataframe thead th {\n",
              "        text-align: right;\n",
              "    }\n",
              "</style>\n",
              "<table border=\"1\" class=\"dataframe\">\n",
              "  <thead>\n",
              "    <tr style=\"text-align: right;\">\n",
              "      <th></th>\n",
              "      <th>client_mac_x</th>\n",
              "      <th>username</th>\n",
              "      <th>Privilege-score</th>\n",
              "      <th>Device-score</th>\n",
              "      <th>Managed_score</th>\n",
              "      <th>Hour-Common</th>\n",
              "      <th>Site-Common</th>\n",
              "      <th>location_score</th>\n",
              "      <th>Security-Factor</th>\n",
              "      <th>Expected-Policy-Profile</th>\n",
              "      <th>ML_Predicted_Policy_Profile</th>\n",
              "    </tr>\n",
              "  </thead>\n",
              "  <tbody>\n",
              "    <tr>\n",
              "      <th>0</th>\n",
              "      <td>04f0.2185.62d8</td>\n",
              "      <td>(svc_7signal_cert@spe.sony.com)</td>\n",
              "      <td>0</td>\n",
              "      <td>0</td>\n",
              "      <td>0</td>\n",
              "      <td>0</td>\n",
              "      <td>0</td>\n",
              "      <td>0</td>\n",
              "      <td>0.000000</td>\n",
              "      <td>Policy: L2 Auth</td>\n",
              "      <td>Policy: L2 Auth</td>\n",
              "    </tr>\n",
              "    <tr>\n",
              "      <th>1</th>\n",
              "      <td>04f0.2185.62d8</td>\n",
              "      <td>(svc_7signal_cert@spe.sony.com)</td>\n",
              "      <td>0</td>\n",
              "      <td>0</td>\n",
              "      <td>20</td>\n",
              "      <td>0</td>\n",
              "      <td>0</td>\n",
              "      <td>0</td>\n",
              "      <td>0.588235</td>\n",
              "      <td>Policy: L2 Auth + Two factor auth + Posturing</td>\n",
              "      <td>Policy: L2 Auth + Two factor auth + Posturing</td>\n",
              "    </tr>\n",
              "    <tr>\n",
              "      <th>2</th>\n",
              "      <td>04f0.2185.62d8</td>\n",
              "      <td>(svc_7signal_cert@spe.sony.com)</td>\n",
              "      <td>0</td>\n",
              "      <td>0</td>\n",
              "      <td>0</td>\n",
              "      <td>0</td>\n",
              "      <td>0</td>\n",
              "      <td>1</td>\n",
              "      <td>0.029412</td>\n",
              "      <td>Policy: L2 Auth+ Two factor auth</td>\n",
              "      <td>Policy: L2 Auth+ Two factor auth</td>\n",
              "    </tr>\n",
              "  </tbody>\n",
              "</table>\n",
              "</div>\n",
              "      <button class=\"colab-df-convert\" onclick=\"convertToInteractive('df-f9bf395b-585f-4cba-90ed-6b10485b2d25')\"\n",
              "              title=\"Convert this dataframe to an interactive table.\"\n",
              "              style=\"display:none;\">\n",
              "        \n",
              "  <svg xmlns=\"http://www.w3.org/2000/svg\" height=\"24px\"viewBox=\"0 0 24 24\"\n",
              "       width=\"24px\">\n",
              "    <path d=\"M0 0h24v24H0V0z\" fill=\"none\"/>\n",
              "    <path d=\"M18.56 5.44l.94 2.06.94-2.06 2.06-.94-2.06-.94-.94-2.06-.94 2.06-2.06.94zm-11 1L8.5 8.5l.94-2.06 2.06-.94-2.06-.94L8.5 2.5l-.94 2.06-2.06.94zm10 10l.94 2.06.94-2.06 2.06-.94-2.06-.94-.94-2.06-.94 2.06-2.06.94z\"/><path d=\"M17.41 7.96l-1.37-1.37c-.4-.4-.92-.59-1.43-.59-.52 0-1.04.2-1.43.59L10.3 9.45l-7.72 7.72c-.78.78-.78 2.05 0 2.83L4 21.41c.39.39.9.59 1.41.59.51 0 1.02-.2 1.41-.59l7.78-7.78 2.81-2.81c.8-.78.8-2.07 0-2.86zM5.41 20L4 18.59l7.72-7.72 1.47 1.35L5.41 20z\"/>\n",
              "  </svg>\n",
              "      </button>\n",
              "      \n",
              "  <style>\n",
              "    .colab-df-container {\n",
              "      display:flex;\n",
              "      flex-wrap:wrap;\n",
              "      gap: 12px;\n",
              "    }\n",
              "\n",
              "    .colab-df-convert {\n",
              "      background-color: #E8F0FE;\n",
              "      border: none;\n",
              "      border-radius: 50%;\n",
              "      cursor: pointer;\n",
              "      display: none;\n",
              "      fill: #1967D2;\n",
              "      height: 32px;\n",
              "      padding: 0 0 0 0;\n",
              "      width: 32px;\n",
              "    }\n",
              "\n",
              "    .colab-df-convert:hover {\n",
              "      background-color: #E2EBFA;\n",
              "      box-shadow: 0px 1px 2px rgba(60, 64, 67, 0.3), 0px 1px 3px 1px rgba(60, 64, 67, 0.15);\n",
              "      fill: #174EA6;\n",
              "    }\n",
              "\n",
              "    [theme=dark] .colab-df-convert {\n",
              "      background-color: #3B4455;\n",
              "      fill: #D2E3FC;\n",
              "    }\n",
              "\n",
              "    [theme=dark] .colab-df-convert:hover {\n",
              "      background-color: #434B5C;\n",
              "      box-shadow: 0px 1px 3px 1px rgba(0, 0, 0, 0.15);\n",
              "      filter: drop-shadow(0px 1px 2px rgba(0, 0, 0, 0.3));\n",
              "      fill: #FFFFFF;\n",
              "    }\n",
              "  </style>\n",
              "\n",
              "      <script>\n",
              "        const buttonEl =\n",
              "          document.querySelector('#df-f9bf395b-585f-4cba-90ed-6b10485b2d25 button.colab-df-convert');\n",
              "        buttonEl.style.display =\n",
              "          google.colab.kernel.accessAllowed ? 'block' : 'none';\n",
              "\n",
              "        async function convertToInteractive(key) {\n",
              "          const element = document.querySelector('#df-f9bf395b-585f-4cba-90ed-6b10485b2d25');\n",
              "          const dataTable =\n",
              "            await google.colab.kernel.invokeFunction('convertToInteractive',\n",
              "                                                     [key], {});\n",
              "          if (!dataTable) return;\n",
              "\n",
              "          const docLinkHtml = 'Like what you see? Visit the ' +\n",
              "            '<a target=\"_blank\" href=https://colab.research.google.com/notebooks/data_table.ipynb>data table notebook</a>'\n",
              "            + ' to learn more about interactive tables.';\n",
              "          element.innerHTML = '';\n",
              "          dataTable['output_type'] = 'display_data';\n",
              "          await google.colab.output.renderOutput(dataTable, element);\n",
              "          const docLink = document.createElement('div');\n",
              "          docLink.innerHTML = docLinkHtml;\n",
              "          element.appendChild(docLink);\n",
              "        }\n",
              "      </script>\n",
              "    </div>\n",
              "  </div>\n",
              "  "
            ]
          },
          "metadata": {},
          "execution_count": 421
        }
      ]
    },
    {
      "cell_type": "code",
      "source": [
        "print(\"We can see that the Expected-Policy-Profile and ML predicted policy profile are matching\")"
      ],
      "metadata": {
        "colab": {
          "base_uri": "https://localhost:8080/"
        },
        "id": "LQicCdsQj2kN",
        "outputId": "187c610e-dc48-4ef2-ec93-d6010f368614"
      },
      "execution_count": null,
      "outputs": [
        {
          "output_type": "stream",
          "name": "stdout",
          "text": [
            "We can see that the Expected-Policy-Profile and ML predicted policy profile are matching\n"
          ]
        }
      ]
    },
    {
      "cell_type": "markdown",
      "source": [
        "## KMeans applied with number of clusters defined on original dataset without Y variable which contained the policy profile names"
      ],
      "metadata": {
        "id": "OjRIzvd3vHLb"
      }
    },
    {
      "cell_type": "code",
      "source": [
        "no_clusters = 5"
      ],
      "metadata": {
        "id": "LWz96isgvOFv"
      },
      "execution_count": null,
      "outputs": []
    },
    {
      "cell_type": "code",
      "source": [
        "# Apply K-means\n",
        "#kmeans = KMeans(n_clusters=no_clusters)  # Specify the number of clusters\n",
        "kmeans = KMeans(n_clusters=5, init='k-means++', n_init=50, max_iter=1000, random_state=42)\n",
        "\n",
        "kmeans_labels = kmeans.fit_predict(X)"
      ],
      "metadata": {
        "id": "r-MTW-CYvL5Y"
      },
      "execution_count": null,
      "outputs": []
    },
    {
      "cell_type": "code",
      "source": [
        "# Access the inertia (sum of squared distances)\n",
        "inertia = kmeans.inertia_\n",
        "print(inertia)"
      ],
      "metadata": {
        "colab": {
          "base_uri": "https://localhost:8080/"
        },
        "id": "BBNfpEf0KSkA",
        "outputId": "8a3b358e-ce04-4438-c42d-705abee98e3c"
      },
      "execution_count": null,
      "outputs": [
        {
          "output_type": "stream",
          "name": "stdout",
          "text": [
            "168857.46476095804\n"
          ]
        }
      ]
    },
    {
      "cell_type": "code",
      "source": [
        "thousandeyes_model_df['KMeans_labels'] = kmeans_labels"
      ],
      "metadata": {
        "id": "bwql5dBcH0gD"
      },
      "execution_count": null,
      "outputs": []
    },
    {
      "cell_type": "code",
      "source": [
        "# Create the bar plot\n",
        "\n",
        "# Create a list of colors for each bar\n",
        "colors = ['red', 'green', 'blue', 'yellow', 'orange']\n",
        "\n",
        "# Calculate the counts of each policy profile\n",
        "kmeans_cluster = thousandeyes_model_df['KMeans_labels'].value_counts()\n",
        "\n",
        "# Convert index values to strings\n",
        "cluster_labels1 = kmeans_cluster.index.astype(str)\n",
        "\n",
        "# Create the bar plot\n",
        "plt.barh(cluster_labels1, kmeans_cluster.values, color=colors)\n",
        "\n",
        "\n",
        "# Set labels and title\n",
        "plt.xlabel('Auto Policy Profile')\n",
        "plt.ylabel('Count')\n",
        "plt.title('KMeans Cluster Distribution')\n",
        "\n",
        "# Remove the x-axis labels\n",
        "plt.xticks([])\n",
        "\n",
        "# Add the count values inside the bars\n",
        "for i, count in enumerate(kmeans_cluster.values):\n",
        "    plt.text(count/2, i, str(count), ha='center', va='center')\n",
        "\n",
        "\n",
        "# Display the plot\n",
        "plt.show()"
      ],
      "metadata": {
        "colab": {
          "base_uri": "https://localhost:8080/",
          "height": 448
        },
        "id": "Qr2tICp-I_jB",
        "outputId": "67e644b9-c82a-48bb-8542-cf0b917b9480"
      },
      "execution_count": null,
      "outputs": [
        {
          "output_type": "display_data",
          "data": {
            "text/plain": [
              "<Figure size 640x480 with 1 Axes>"
            ],
            "image/png": "[encoded data removed]"
          },
          "metadata": {}
        }
      ]
    },
    {
      "cell_type": "markdown",
      "source": [
        "## Will try and cluster without calculating Security-Factor"
      ],
      "metadata": {
        "id": "b4O7v9nAdOAb"
      }
    },
    {
      "cell_type": "code",
      "source": [
        "thousandeyes_model_unsupervised_df = thousandeyes_df_ML[['Privilege-score','Device-score', 'Managed_score', 'Hour-Common', 'Site-Common', 'location_score']].copy()"
      ],
      "metadata": {
        "id": "vo1rMagfdXzm"
      },
      "execution_count": null,
      "outputs": []
    },
    {
      "cell_type": "code",
      "source": [
        "kmeans1 = KMeans(n_clusters=5, init='k-means++', n_init=50, max_iter=1000, random_state=42)\n",
        "\n",
        "kmeans_labels1 = kmeans1.fit_predict(thousandeyes_model_unsupervised_df)"
      ],
      "metadata": {
        "id": "c50WAIj3dX-U"
      },
      "execution_count": null,
      "outputs": []
    },
    {
      "cell_type": "code",
      "source": [
        "thousandeyes_model_unsupervised_df['KMeans_labels'] = kmeans_labels1"
      ],
      "metadata": {
        "id": "hypTHB2AeRKt"
      },
      "execution_count": null,
      "outputs": []
    },
    {
      "cell_type": "code",
      "source": [
        "# Calculate the counts of each cluster\n",
        "kmeans_cluster_counts = thousandeyes_model_unsupervised_df['KMeans_labels'].value_counts()\n",
        "\n",
        "# Convert index values to strings\n",
        "cluster_labels = kmeans_cluster_counts.index.astype(str)\n",
        "\n",
        "# Create a list of colors for each bar\n",
        "colors = ['red', 'green', 'blue', 'yellow', 'orange']\n"
      ],
      "metadata": {
        "id": "OvROnMDli6zW"
      },
      "execution_count": null,
      "outputs": []
    },
    {
      "cell_type": "code",
      "source": [
        "# Create the bar plot\n",
        "plt.barh(cluster_labels, kmeans_cluster_counts.values, color=colors)\n",
        "\n",
        "# Set labels and title\n",
        "plt.xlabel('Count')\n",
        "plt.ylabel('Cluster')\n",
        "plt.title('KMeans Unsupervised Cluster')\n",
        "\n",
        "# Add the count values inside the bars\n",
        "for i, count in enumerate(kmeans_cluster_counts.values):\n",
        "    plt.text(count/2, i, str(count), ha='center', va='center')\n",
        "\n",
        "# Display the plot\n",
        "plt.show()\n"
      ],
      "metadata": {
        "colab": {
          "base_uri": "https://localhost:8080/",
          "height": 472
        },
        "id": "IYha_1oyeY5S",
        "outputId": "d5df3d8c-fd79-4367-e848-19d4c311dc03"
      },
      "execution_count": null,
      "outputs": [
        {
          "output_type": "display_data",
          "data": {
            "text/plain": [
              "<Figure size 640x480 with 1 Axes>"
            ],
            "image/png": "[encoded data removed]"
          },
          "metadata": {}
        }
      ]
    },
    {
      "cell_type": "markdown",
      "source": [
        "### Save the model file to .csv"
      ],
      "metadata": {
        "id": "NWPMCqnqpolV"
      }
    },
    {
      "cell_type": "code",
      "source": [
        "thousandeyes_model_unsupervised_df.to_csv('/content/drive/MyDrive/Colab Notebooks/model-output.csv', index=False)"
      ],
      "metadata": {
        "id": "uuPYQVxBpsMc"
      },
      "execution_count": null,
      "outputs": []
    },
    {
      "cell_type": "markdown",
      "source": [
        "## Apply DBSCAN for unsupervised clustering"
      ],
      "metadata": {
        "id": "lgd4FUe8kY3n"
      }
    },
    {
      "cell_type": "code",
      "source": [
        "# Create a DBSCAN object\n",
        "#dbscan = DBSCAN(eps=0.5, min_samples=5)\n",
        "\n",
        "# Fit the DBSCAN model to your data\n",
        "#dbscan.fit(thousandeyes_model_unsupervised_df)\n",
        "\n",
        "# Retrieve the labels assigned to each data point\n",
        "#labels = dbscan.labels_"
      ],
      "metadata": {
        "id": "Wc_vatM2knAZ"
      },
      "execution_count": null,
      "outputs": []
    },
    {
      "cell_type": "code",
      "source": [
        "# Retrieve the core samples and their indices\n",
        "#core_samples_mask = np.zeros_like(labels, dtype=bool)\n",
        "#core_samples_mask[dbscan.core_sample_indices_] = True\n",
        "\n",
        "# Print the labels and core samples\n",
        "#print(\"Cluster labels:\", labels)\n",
        "#print(\"Core samples:\", core_samples_mask)"
      ],
      "metadata": {
        "id": "3Qwl34z3koNt"
      },
      "execution_count": null,
      "outputs": []
    },
    {
      "cell_type": "markdown",
      "source": [
        "## Hierarchical Clustering"
      ],
      "metadata": {
        "id": "UoEyC7GYnn_s"
      }
    },
    {
      "cell_type": "code",
      "source": [
        "#import numpy as np\n",
        "#from sklearn.cluster import AgglomerativeClustering\n",
        "#from sklearn.datasets import make_blobs\n",
        "#import matplotlib.pyplot as plt\n",
        "\n",
        "# Generate random data\n",
        "#X, y = make_blobs(n_samples=100, centers=3, random_state=42)\n",
        "\n",
        "# Perform hierarchical clustering\n",
        "#clustering = AgglomerativeClustering(n_clusters=5)\n",
        "#clustering.fit(thousandeyes_model_unsupervised_df)\n",
        "\n",
        "# Plot the data points with color-coded clusters\n",
        "#plt.scatter(X[:, 0], X[:, 1], c=clustering.labels_, cmap='viridis')\n",
        "#plt.xlabel('Feature 1')\n",
        "#plt.ylabel('Feature 2')\n",
        "#plt.title('Hierarchical Clustering')\n",
        "#plt.show()\n"
      ],
      "metadata": {
        "id": "oTFvNGSVnncs"
      },
      "execution_count": null,
      "outputs": []
    },
    {
      "cell_type": "markdown",
      "source": [
        "# End"
      ],
      "metadata": {
        "id": "JVYWBwrEF8mT"
      }
    }
  ]
}